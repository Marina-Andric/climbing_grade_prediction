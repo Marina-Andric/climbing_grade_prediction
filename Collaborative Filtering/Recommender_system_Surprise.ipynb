{
 "cells": [
  {
   "cell_type": "code",
   "execution_count": 1,
   "metadata": {
    "scrolled": true
   },
   "outputs": [],
   "source": [
    "from surprise import KNNBaseline, KNNWithMeans, KNNBasic, BaselineOnly, KNNWithZScore\n",
    "from surprise import Dataset\n",
    "from surprise import Reader\n",
    "from surprise import SVD\n",
    "from surprise import NMF\n",
    "from surprise import accuracy\n",
    "from surprise.model_selection import GridSearchCV\n",
    "from surprise.model_selection import cross_validate\n",
    "from sklearn.model_selection import train_test_split\n",
    "from sklearn.metrics.pairwise import euclidean_distances, cosine_distances\n",
    "from sklearn.metrics.pairwise import cosine_similarity\n",
    "from scipy.stats import pearsonr\n",
    "from surprise import SVDpp\n",
    "from caserec.recommenders.rating_prediction.svdplusplus import SVDPlusPlus\n",
    "from caserec.recommenders.rating_prediction.gsvdplusplus import GSVDPlusPlus\n",
    "from caserec.recommenders.rating_prediction.nnmf import NNMF\n",
    "from caserec.recommenders.rating_prediction.matrixfactorization import MatrixFactorization\n",
    "from caserec.utils.cross_validation import CrossValidation\n",
    "\n",
    "\n",
    "import pandas as pd\n",
    "import warnings\n",
    "warnings.filterwarnings('ignore')\n",
    "import seaborn as sns\n",
    "from matplotlib import colors\n",
    "import matplotlib\n",
    "import matplotlib.pyplot as plt\n",
    "import numpy as np\n",
    "import plotly.express as px\n",
    "\n",
    "%matplotlib inline"
   ]
  },
  {
   "cell_type": "code",
   "execution_count": 107,
   "metadata": {
    "scrolled": true
   },
   "outputs": [],
   "source": [
    "dict_for_grades = {'vl-0': 0, 'vl-1': 1, 'vl-2': 2, 'vl-3': 2, 'vl-4': 3, 'vl-5': 3, 'vl-6': 4, 'vl-7': 4, 'vl-8': 4, 'vl-9': 5, 'vl-10': '5a', 'vl-11': '5a+', 'vl-12': '5b', 'vl-13': '5b+', 'vl-14': '5c', 'vl-15': '5c+', 'vl-16': '6a', 'vl-17': '6a+', 'vl-18': '6b', 'vl-19': '6b+', 'vl-20': '6b+', 'vl-21': '6c', 'vl-22': '6c+', 'vl-23': '7a', 'vl-24': '7a+', 'vl-25': '7b', 'vl-26': '7b+', 'vl-27': '7c', 'vl-28': '7c+', 'vl-29': '8a', 'vl-30': '8a+', 'vl-31': '8b', 'vl-32': '8b+', 'vl-33': '8c', 'vl-34': '8c+', 'vl-35': '9a', 'vl-36': '9a+', 'vl-37': '9b', 'vl-38': '9b+', 'vl-39': '9c'}"
   ]
  },
  {
   "cell_type": "code",
   "execution_count": null,
   "metadata": {
    "scrolled": true
   },
   "outputs": [],
   "source": [
    "import pandas as pd\n",
    "import psycopg2\n",
    "\n",
    "\n",
    "conn = psycopg2.connect(\n",
    "    host='127.0.0.1',\n",
    "    port=3333,\n",
    "    user='postgres',\n",
    "    password='eGu+7V;{9t!LbQ<Y',\n",
    "    dbname='vertikal_life_14012021'\n",
    ")\n",
    "cur_pg = conn.cursor()\n"
   ]
  },
  {
   "cell_type": "code",
   "execution_count": null,
   "metadata": {
    "scrolled": true
   },
   "outputs": [],
   "source": []
  },
  {
   "cell_type": "code",
   "execution_count": null,
   "metadata": {
    "scrolled": true
   },
   "outputs": [],
   "source": []
  },
  {
   "cell_type": "markdown",
   "metadata": {},
   "source": [
    "Grade proposal prediction:"
   ]
  },
  {
   "cell_type": "raw",
   "metadata": {},
   "source": [
    "cur_pg.execute(\"select * from aux_schema.gym_routes_selected_climbs\")\n",
    "df = pd.DataFrame(cur_pg.fetchall())"
   ]
  },
  {
   "cell_type": "raw",
   "metadata": {},
   "source": [
    "df.columns = ['row_number', 'route_id', 'user_id', 'date', 'rating', 'tries', 'grade_proposal', 'user_grade_id', 'grade_id', 'line_id', 'wall_id', 'sector_id', 'gym_id', 'route_setter_id', 'project', 'protection', 'repeats', 'sits', 'user_red_point_id', 'athletic', 'cruxes', 'endurance', 'fingerstrength', 'sloppers', 'technical', 'roof', 'slabs', 'vertical', 'overhanging', 'user_athletic', 'user_cruxes', 'user_endurance', 'user_fingerstrength', 'user_sloppers', 'user_technical', 'climb_type', 'height']"
   ]
  },
  {
   "cell_type": "code",
   "execution_count": 39,
   "metadata": {
    "scrolled": true
   },
   "outputs": [],
   "source": [
    "cur_pg.execute(\"select * from aux_schema.gym_routes_selected_climbs_v2\")\n",
    "df = pd.DataFrame(cur_pg.fetchall())"
   ]
  },
  {
   "cell_type": "code",
   "execution_count": 40,
   "metadata": {
    "scrolled": true
   },
   "outputs": [],
   "source": [
    "df.columns = ['id', 'user_id', 'route_type', 'rating', 'route_id', 'date', 'tries', 'repeats', 'sits', 'recommended', 'user_style', 'user_grade', 'climb_type', 'project', 'protection', 'grade_proposal', 'user_grade_id', 'grade_id', 'user_red_point_id', 'grade_eval_bias', 'route_setter_id', 'height', 'athletic', 'cruxes', 'endurance', 'fingerstrength', 'sloppers', 'technical', 'roof', 'slabs', 'vertikal', 'overhanging', 'user_athletic', 'user_cruxes', 'user_endurance', 'user_fingerstrength', 'user_sloppers', 'user_technical', 'user_climb_type', 'row_number']"
   ]
  },
  {
   "cell_type": "code",
   "execution_count": 41,
   "metadata": {
    "scrolled": true
   },
   "outputs": [],
   "source": [
    "df = df[df['user_red_point_id'].notnull()]"
   ]
  },
  {
   "cell_type": "code",
   "execution_count": 472,
   "metadata": {},
   "outputs": [],
   "source": [
    "df.to_csv('gym_routes_selected_climbs_v2.csv', index=False)"
   ]
  },
  {
   "cell_type": "code",
   "execution_count": null,
   "metadata": {
    "scrolled": true
   },
   "outputs": [],
   "source": []
  },
  {
   "cell_type": "code",
   "execution_count": 310,
   "metadata": {
    "scrolled": true
   },
   "outputs": [],
   "source": [
    "cur_pg.execute(\"select * from aux_schema.routes_selected_climbs_v2\")\n",
    "df1 = pd.DataFrame(cur_pg.fetchall())"
   ]
  },
  {
   "cell_type": "code",
   "execution_count": 311,
   "metadata": {
    "scrolled": true
   },
   "outputs": [],
   "source": [
    "df1.columns = ['id', 'user_id', 'route_type', 'rating', 'route_id', 'date', 'tries', 'repeats', 'sits', 'recommended', 'user_style', 'user_grade', 'climb_type', 'project', 'protection', 'grade_proposal', 'user_grade_id', 'grade_id', 'user_red_point_id', 'grade_eval_bias', 'height', 'exposition', 'multipitch', 'season', 'spit', 'roof', 'slabs', 'vertikal', 'overhanging', 'user_athletic', 'user_cruxes', 'user_endurance', 'user_fingerstrength', 'user_sloppers', 'user_technical', 'user_climb_type', 'row_number']"
   ]
  },
  {
   "cell_type": "code",
   "execution_count": 312,
   "metadata": {},
   "outputs": [],
   "source": [
    "df1 = df1[df1['user_red_point_id'].notnull()]"
   ]
  },
  {
   "cell_type": "code",
   "execution_count": 313,
   "metadata": {
    "scrolled": true
   },
   "outputs": [],
   "source": [
    "df1.to_csv('routes_selected_climbs_v2.csv', index=False)"
   ]
  },
  {
   "cell_type": "code",
   "execution_count": null,
   "metadata": {
    "scrolled": true
   },
   "outputs": [],
   "source": []
  },
  {
   "cell_type": "code",
   "execution_count": 314,
   "metadata": {},
   "outputs": [],
   "source": [
    "df = df1.copy()"
   ]
  },
  {
   "cell_type": "markdown",
   "metadata": {},
   "source": [
    "Create matrix of users and ratings:"
   ]
  },
  {
   "cell_type": "code",
   "execution_count": 42,
   "metadata": {
    "scrolled": true
   },
   "outputs": [],
   "source": [
    "users = df.user_id.unique()\n",
    "routes = df.route_id.unique()\n",
    "\n",
    "users.sort()\n",
    "routes.sort()"
   ]
  },
  {
   "cell_type": "code",
   "execution_count": 43,
   "metadata": {},
   "outputs": [
    {
     "data": {
      "text/plain": [
       "array([    51,    500,    904, ..., 205282, 208384, 208390])"
      ]
     },
     "execution_count": 43,
     "metadata": {},
     "output_type": "execute_result"
    }
   ],
   "source": [
    "users"
   ]
  },
  {
   "cell_type": "code",
   "execution_count": 44,
   "metadata": {
    "scrolled": true
   },
   "outputs": [
    {
     "name": "stdout",
     "output_type": "stream",
     "text": [
      "number of users:  2673\n",
      "number of routes:  24983\n"
     ]
    }
   ],
   "source": [
    "print('number of users: ', len(users))\n",
    "print('number of routes: ', len(routes))"
   ]
  },
  {
   "cell_type": "raw",
   "metadata": {
    "scrolled": true
   },
   "source": [
    "values = {'tries': -1, 'line_id': -1, 'wall_id': -1, 'sector_id': -1, 'gym_id': -1, 'route_setter_id': -1,\n",
    "          'project': -1, 'protection': -1, 'repeats': -1, 'sits': -1, 'user_red_point_id': -1,\n",
    "         'athletic': -1, 'cruxes': -1, 'endurance': -1, 'fingerstrength': -1, 'sloppers': -1,\n",
    "         'technical': -1, 'roof': -1, 'slabs': -1, 'vertikal': -1, 'overhanging': -1,\n",
    "         'user_athletic': -1, 'user_cruxes': -1, 'user_endurance': -1, 'user_fingerstrength': -1,\n",
    "         'user_sloppers': -1, 'user_technical': -1, 'climb_type': -1, 'height': -1, 'user_style': -1, 'user_climb_type': -1}\n",
    "df = df.fillna(value=values)"
   ]
  },
  {
   "cell_type": "code",
   "execution_count": 45,
   "metadata": {
    "scrolled": true
   },
   "outputs": [],
   "source": [
    "matrix_grades = np.zeros((len(users), len(routes)))"
   ]
  },
  {
   "cell_type": "markdown",
   "metadata": {},
   "source": [
    "fill the values of matrix in the ratings"
   ]
  },
  {
   "cell_type": "code",
   "execution_count": 46,
   "metadata": {},
   "outputs": [
    {
     "data": {
      "text/plain": [
       "51"
      ]
     },
     "execution_count": 46,
     "metadata": {},
     "output_type": "execute_result"
    }
   ],
   "source": [
    "min(df.user_id)"
   ]
  },
  {
   "cell_type": "raw",
   "metadata": {
    "scrolled": true
   },
   "source": [
    "for ind in list(df.index):\n",
    "    user_id, grade, route_id = df.loc[ind, ['user_id', 'user_grade_id', 'route_id']]\n",
    "    num_row = np.where(users == user_id)[0][0]\n",
    "    num_col = np.where(routes == route_id)[0][0]\n",
    "    matrix_grades[num_row, num_col] = grade"
   ]
  },
  {
   "cell_type": "code",
   "execution_count": 47,
   "metadata": {},
   "outputs": [],
   "source": [
    "list_users = []\n",
    "list_routes = []\n",
    "list_grades = []\n",
    "\n",
    "for ind in list(df.index):\n",
    "    user_id, grade, route_id = df.loc[ind, ['user_id', 'user_grade_id', 'route_id']]\n",
    "    num_row = np.where(users == user_id)[0][0]\n",
    "    num_col = np.where(routes == route_id)[0][0]\n",
    "    list_users.append(num_row)\n",
    "    list_routes.append(num_col)\n",
    "    list_grades.append(grade)"
   ]
  },
  {
   "cell_type": "code",
   "execution_count": 48,
   "metadata": {},
   "outputs": [],
   "source": [
    "grades_df = pd.DataFrame(list(zip(list_users, list_routes, list_grades)), \n",
    "               columns =['user_id', 'route_id', 'grade']) "
   ]
  },
  {
   "cell_type": "code",
   "execution_count": 13,
   "metadata": {},
   "outputs": [],
   "source": [
    "grades_df.to_csv('gym_routes_grades_df.csv', index=False)"
   ]
  },
  {
   "cell_type": "markdown",
   "metadata": {},
   "source": [
    "np.save('gym_routes_matrix_grades.npy', matrix_grades)"
   ]
  },
  {
   "cell_type": "markdown",
   "metadata": {},
   "source": [
    "matrix_grades = np.load('gym_routes_matrix_grades.npy')"
   ]
  },
  {
   "cell_type": "code",
   "execution_count": 49,
   "metadata": {},
   "outputs": [],
   "source": [
    "list_users = []\n",
    "list_routes = []\n",
    "list_grades = []\n",
    "\n",
    "for ind in list(df.index):\n",
    "    user_id, grade, route_id = df.loc[ind, ['user_id', 'grade_id', 'route_id']]\n",
    "    num_row = np.where(users == user_id)[0][0]\n",
    "    num_col = np.where(routes == route_id)[0][0]\n",
    "    list_users.append(num_row)\n",
    "    list_routes.append(num_col)\n",
    "    list_grades.append(grade)\n",
    "default_grades_df = pd.DataFrame(list(zip(list_users, list_routes, list_grades)), \n",
    "               columns =['user_id', 'route_id', 'grade']) "
   ]
  },
  {
   "cell_type": "code",
   "execution_count": 15,
   "metadata": {},
   "outputs": [],
   "source": [
    "default_grades_df.to_csv('default_gym_routes_grades_df.csv', index=False)"
   ]
  },
  {
   "cell_type": "raw",
   "metadata": {
    "scrolled": true
   },
   "source": [
    "from scipy import sparse\n",
    "# or let the fit function itself divide the data into batches\n",
    "matrix_grades_sparse = sparse.csr_matrix(matrix_grades)"
   ]
  },
  {
   "cell_type": "code",
   "execution_count": 50,
   "metadata": {
    "scrolled": true
   },
   "outputs": [
    {
     "name": "stdout",
     "output_type": "stream",
     "text": [
      "24983\n",
      "2673\n"
     ]
    }
   ],
   "source": [
    "print(len(routes))\n",
    "print(len(users))"
   ]
  },
  {
   "cell_type": "code",
   "execution_count": null,
   "metadata": {
    "scrolled": true
   },
   "outputs": [],
   "source": []
  },
  {
   "cell_type": "code",
   "execution_count": 6,
   "metadata": {
    "scrolled": true
   },
   "outputs": [
    {
     "data": {
      "text/html": [
       "<div>\n",
       "<style scoped>\n",
       "    .dataframe tbody tr th:only-of-type {\n",
       "        vertical-align: middle;\n",
       "    }\n",
       "\n",
       "    .dataframe tbody tr th {\n",
       "        vertical-align: top;\n",
       "    }\n",
       "\n",
       "    .dataframe thead th {\n",
       "        text-align: right;\n",
       "    }\n",
       "</style>\n",
       "<table border=\"1\" class=\"dataframe\">\n",
       "  <thead>\n",
       "    <tr style=\"text-align: right;\">\n",
       "      <th></th>\n",
       "      <th>user_id</th>\n",
       "      <th>route_id</th>\n",
       "      <th>grade</th>\n",
       "    </tr>\n",
       "  </thead>\n",
       "  <tbody>\n",
       "    <tr>\n",
       "      <th>0</th>\n",
       "      <td>124030</td>\n",
       "      <td>43577</td>\n",
       "      <td>-1</td>\n",
       "    </tr>\n",
       "    <tr>\n",
       "      <th>1</th>\n",
       "      <td>123965</td>\n",
       "      <td>43577</td>\n",
       "      <td>0</td>\n",
       "    </tr>\n",
       "    <tr>\n",
       "      <th>2</th>\n",
       "      <td>121386</td>\n",
       "      <td>43577</td>\n",
       "      <td>0</td>\n",
       "    </tr>\n",
       "    <tr>\n",
       "      <th>3</th>\n",
       "      <td>121371</td>\n",
       "      <td>43577</td>\n",
       "      <td>0</td>\n",
       "    </tr>\n",
       "    <tr>\n",
       "      <th>4</th>\n",
       "      <td>108436</td>\n",
       "      <td>43577</td>\n",
       "      <td>0</td>\n",
       "    </tr>\n",
       "  </tbody>\n",
       "</table>\n",
       "</div>"
      ],
      "text/plain": [
       "   user_id  route_id  grade\n",
       "0   124030     43577     -1\n",
       "1   123965     43577      0\n",
       "2   121386     43577      0\n",
       "3   121371     43577      0\n",
       "4   108436     43577      0"
      ]
     },
     "execution_count": 6,
     "metadata": {},
     "output_type": "execute_result"
    }
   ],
   "source": [
    "df = pd.read_csv('gym_routes_selected_climbs_15032021.csv')\n",
    "\n",
    "df['grade'] = df['user_grade_id'] - df['grade_id']\n",
    "\n",
    "df[['user_id', 'route_id', 'grade']].head()"
   ]
  },
  {
   "cell_type": "markdown",
   "metadata": {},
   "source": [
    "# KNN model written without libraries"
   ]
  },
  {
   "cell_type": "code",
   "execution_count": 92,
   "metadata": {},
   "outputs": [
    {
     "data": {
      "text/html": [
       "<div>\n",
       "<style scoped>\n",
       "    .dataframe tbody tr th:only-of-type {\n",
       "        vertical-align: middle;\n",
       "    }\n",
       "\n",
       "    .dataframe tbody tr th {\n",
       "        vertical-align: top;\n",
       "    }\n",
       "\n",
       "    .dataframe thead th {\n",
       "        text-align: right;\n",
       "    }\n",
       "</style>\n",
       "<table border=\"1\" class=\"dataframe\">\n",
       "  <thead>\n",
       "    <tr style=\"text-align: right;\">\n",
       "      <th></th>\n",
       "      <th>Unnamed: 0</th>\n",
       "      <th>user_grade_id</th>\n",
       "      <th>grade_id</th>\n",
       "      <th>user_id</th>\n",
       "      <th>route_id</th>\n",
       "      <th>diff</th>\n",
       "    </tr>\n",
       "  </thead>\n",
       "  <tbody>\n",
       "    <tr>\n",
       "      <th>0</th>\n",
       "      <td>0</td>\n",
       "      <td>17</td>\n",
       "      <td>14</td>\n",
       "      <td>31819</td>\n",
       "      <td>1517</td>\n",
       "      <td>3</td>\n",
       "    </tr>\n",
       "    <tr>\n",
       "      <th>1</th>\n",
       "      <td>1</td>\n",
       "      <td>15</td>\n",
       "      <td>15</td>\n",
       "      <td>31819</td>\n",
       "      <td>1519</td>\n",
       "      <td>0</td>\n",
       "    </tr>\n",
       "    <tr>\n",
       "      <th>2</th>\n",
       "      <td>2</td>\n",
       "      <td>15</td>\n",
       "      <td>15</td>\n",
       "      <td>4716</td>\n",
       "      <td>989</td>\n",
       "      <td>0</td>\n",
       "    </tr>\n",
       "    <tr>\n",
       "      <th>3</th>\n",
       "      <td>3</td>\n",
       "      <td>15</td>\n",
       "      <td>15</td>\n",
       "      <td>4716</td>\n",
       "      <td>1020</td>\n",
       "      <td>0</td>\n",
       "    </tr>\n",
       "    <tr>\n",
       "      <th>4</th>\n",
       "      <td>4</td>\n",
       "      <td>6</td>\n",
       "      <td>6</td>\n",
       "      <td>4716</td>\n",
       "      <td>1012</td>\n",
       "      <td>0</td>\n",
       "    </tr>\n",
       "  </tbody>\n",
       "</table>\n",
       "</div>"
      ],
      "text/plain": [
       "   Unnamed: 0  user_grade_id  grade_id  user_id  route_id  diff\n",
       "0           0             17        14    31819      1517     3\n",
       "1           1             15        15    31819      1519     0\n",
       "2           2             15        15     4716       989     0\n",
       "3           3             15        15     4716      1020     0\n",
       "4           4              6         6     4716      1012     0"
      ]
     },
     "execution_count": 92,
     "metadata": {},
     "output_type": "execute_result"
    }
   ],
   "source": [
    "df_train_svd.head()"
   ]
  },
  {
   "cell_type": "code",
   "execution_count": 8,
   "metadata": {},
   "outputs": [],
   "source": [
    "np.random.seed(42)\n",
    "train_size = .8\n",
    "\n",
    "train_set = []\n",
    "test_set = []\n",
    "users_to_exclude = []\n",
    "\n",
    "df_user_item = df.copy()\n"
   ]
  },
  {
   "cell_type": "code",
   "execution_count": null,
   "metadata": {},
   "outputs": [],
   "source": []
  },
  {
   "cell_type": "code",
   "execution_count": 9,
   "metadata": {},
   "outputs": [],
   "source": [
    "train_set = []\n",
    "test_set = []\n",
    "df_train = pd.DataFrame(columns = ['user_id','route_id','grade'])\n",
    "df_test = pd.DataFrame(columns = ['user_id','route_id','grade'])\n",
    "\n",
    "n = 0\n",
    "\n",
    "df_user_item = df_user_item[['user_id','route_id','grade']]\n",
    "\n",
    "for idx, group in df_user_item.groupby('user_id'):\n",
    "    n_grades = group.index.size\n",
    "    if n_grades >= 3:\n",
    "        train_set.extend(group.index[np.random.choice(n_grades,int(n_grades*train_size), replace=False)])\n",
    "        test_set.extend(np.setdiff1d(group.index, train_set))\n",
    "    else:\n",
    "        train_set.extend(group.index)\n"
   ]
  },
  {
   "cell_type": "code",
   "execution_count": 10,
   "metadata": {},
   "outputs": [],
   "source": [
    "df_train = df_user_item.loc[train_set]\n",
    "df_test = df_user_item.loc[test_set]"
   ]
  },
  {
   "cell_type": "code",
   "execution_count": 13,
   "metadata": {},
   "outputs": [
    {
     "data": {
      "text/plain": [
       "187367"
      ]
     },
     "execution_count": 13,
     "metadata": {},
     "output_type": "execute_result"
    }
   ],
   "source": [
    "len(df_train)"
   ]
  },
  {
   "cell_type": "code",
   "execution_count": 14,
   "metadata": {},
   "outputs": [
    {
     "data": {
      "text/plain": [
       "48472"
      ]
     },
     "execution_count": 14,
     "metadata": {},
     "output_type": "execute_result"
    }
   ],
   "source": [
    "len(df_test)"
   ]
  },
  {
   "cell_type": "markdown",
   "metadata": {},
   "source": [
    "df_train.to_csv('gym_route_train.csv', index=False)\n",
    "df_test.to_csv('gym_route_test.csv', index=False)"
   ]
  },
  {
   "cell_type": "code",
   "execution_count": 11,
   "metadata": {},
   "outputs": [],
   "source": [
    "users = df_user_item.user_id.unique()\n",
    "routes = df_user_item.route_id.unique()\n",
    "\n",
    "users.sort()\n",
    "routes.sort()"
   ]
  },
  {
   "cell_type": "code",
   "execution_count": 5,
   "metadata": {},
   "outputs": [],
   "source": [
    "df_train = df_train_svd[['user_id','route_id','diff']]\n",
    "df_test = df_test_svd[['user_id','route_id','diff']]\n",
    "users = df_train.user_id.unique()\n",
    "routes = list(df_train.route_id.unique())\n",
    "\n",
    "for route in df_test.route_id.unique():\n",
    "    if route not in routes:\n",
    "        routes.append(route)\n",
    "        \n",
    "routes = np.array(routes)\n",
    "\n",
    "users.sort()\n",
    "routes.sort()"
   ]
  },
  {
   "cell_type": "code",
   "execution_count": 29,
   "metadata": {},
   "outputs": [],
   "source": [
    "train_matrix_grades = np.zeros((len(users), len(routes)))\n",
    "train_matrix_grades_for_cos = np.zeros((len(users), len(routes)))\n",
    "train_matrix_grades_for_cos[:] = np.nan\n",
    "test_matrix_grades = np.zeros((len(users), len(routes)))\n",
    "default_matrix_grades = np.zeros((len(users), len(routes)))\n",
    "prediction_matrix_grades = np.zeros((len(users), len(routes)))"
   ]
  },
  {
   "cell_type": "code",
   "execution_count": 30,
   "metadata": {},
   "outputs": [
    {
     "data": {
      "text/plain": [
       "(array([76]),)"
      ]
     },
     "execution_count": 30,
     "metadata": {},
     "output_type": "execute_result"
    }
   ],
   "source": [
    "np.where(users == 31819)"
   ]
  },
  {
   "cell_type": "code",
   "execution_count": 31,
   "metadata": {},
   "outputs": [],
   "source": [
    "for ind in df_train.index:\n",
    "    user_id, route_id, grade = df_train.loc[ind, ['user_id', 'route_id', 'diff']]\n",
    "    num_row = np.where(users == user_id)[0][0]\n",
    "    num_col = np.where(routes == route_id)[0][0]\n",
    "    train_matrix_grades[num_row, num_col] = grade\n",
    "    train_matrix_grades_for_cos[num_row, num_col] = grade"
   ]
  },
  {
   "cell_type": "code",
   "execution_count": 33,
   "metadata": {},
   "outputs": [
    {
     "data": {
      "text/plain": [
       "array([-1.,  1., -1., ..., -1., -1., -1.])"
      ]
     },
     "execution_count": 33,
     "metadata": {},
     "output_type": "execute_result"
    }
   ],
   "source": [
    "train_matrix_grades[np.where(train_matrix_grades!=0)]"
   ]
  },
  {
   "cell_type": "raw",
   "metadata": {},
   "source": [
    "train_matrix_grades_for_cos = train_matrix_grades_for_cos_.copy()\n",
    "print(train_matrix_grades_for_cos_[0])"
   ]
  },
  {
   "cell_type": "code",
   "execution_count": 9,
   "metadata": {},
   "outputs": [],
   "source": [
    "for col in range(len(train_matrix_grades_for_cos[0])):\n",
    "    train_matrix_grades_for_cos[:,col] = train_matrix_grades_for_cos[:,col] - np.nanmean(train_matrix_grades_for_cos[:,col])"
   ]
  },
  {
   "cell_type": "code",
   "execution_count": 10,
   "metadata": {},
   "outputs": [],
   "source": [
    "for ind in df_test.index:\n",
    "    user_id, route_id, grade = df_test.loc[ind, ['user_id', 'route_id', 'diff']]\n",
    "    num_row = np.where(users == user_id)[0][0]\n",
    "    num_col = np.where(routes == route_id)[0][0]\n",
    "    test_matrix_grades[num_row, num_col] = grade"
   ]
  },
  {
   "cell_type": "code",
   "execution_count": null,
   "metadata": {},
   "outputs": [],
   "source": [
    "for ind in default_grades_df.index:\n",
    "    user_id, route_id, grade = default_grades_df.loc[ind, ['user_id', 'route_id', 'diff']]\n",
    "    num_row = np.where(users == user_id)[0][0]\n",
    "    num_col = np.where(routes == route_id)[0][0]\n",
    "    default_matrix_grades[num_row, num_col] = grade"
   ]
  },
  {
   "cell_type": "code",
   "execution_count": null,
   "metadata": {},
   "outputs": [],
   "source": []
  },
  {
   "cell_type": "markdown",
   "metadata": {},
   "source": [
    "# Item-based approach"
   ]
  },
  {
   "cell_type": "code",
   "execution_count": 28,
   "metadata": {},
   "outputs": [],
   "source": [
    "t_matrix = np.array([[1.5, 0.5, 1.5, -1.5, -0.5, -1.5],\n",
    "                     [1.2, 2.2, 0, -0.8, -1.8, -0.8],\n",
    "                     [0, 1, 1, -1, -1, 0],\n",
    "                    [-1.5, -0.5, -0.5, 0.5, 0.5, 1.5],\n",
    "                    [-1, 0, -1, 0, 1, 1]])"
   ]
  },
  {
   "cell_type": "code",
   "execution_count": 180,
   "metadata": {},
   "outputs": [
    {
     "data": {
      "text/plain": [
       "array([ 1.5,  1.2,  0. , -1.5, -1. ])"
      ]
     },
     "execution_count": 180,
     "metadata": {},
     "output_type": "execute_result"
    }
   ],
   "source": [
    "t_matrix.T[0]"
   ]
  },
  {
   "cell_type": "code",
   "execution_count": 183,
   "metadata": {},
   "outputs": [
    {
     "data": {
      "text/plain": [
       "array([[ 1.5,  1.2,  0. , -1.5, -1. ],\n",
       "       [ 0.5,  2.2,  1. , -0.5,  0. ],\n",
       "       [ 1.5,  0. ,  1. , -0.5, -1. ],\n",
       "       [-1.5, -0.8, -1. ,  0.5,  0. ],\n",
       "       [-0.5, -1.8, -1. ,  0.5,  1. ],\n",
       "       [-1.5, -0.8,  0. ,  1.5,  1. ]])"
      ]
     },
     "execution_count": 183,
     "metadata": {},
     "output_type": "execute_result"
    }
   ],
   "source": [
    "t_matrix.T"
   ]
  },
  {
   "cell_type": "code",
   "execution_count": 207,
   "metadata": {},
   "outputs": [],
   "source": [
    "similarities_routes_ = np.round(cosine_similarity([t_matrix.T[0]], t_matrix.T), 3)"
   ]
  },
  {
   "cell_type": "code",
   "execution_count": null,
   "metadata": {},
   "outputs": [],
   "source": []
  },
  {
   "cell_type": "code",
   "execution_count": 208,
   "metadata": {},
   "outputs": [
    {
     "data": {
      "text/plain": [
       "array([[ 1.   ,  0.624,  0.716, -0.739, -0.738, -0.99 ]])"
      ]
     },
     "execution_count": 208,
     "metadata": {},
     "output_type": "execute_result"
    }
   ],
   "source": [
    "similarities_routes_"
   ]
  },
  {
   "cell_type": "code",
   "execution_count": 342,
   "metadata": {},
   "outputs": [],
   "source": [
    "similarities_routes_ = np.round(cosine_similarity(t_matrix.T[5].reshape(1,-1), t_matrix.T), 3)"
   ]
  },
  {
   "cell_type": "raw",
   "metadata": {},
   "source": [
    "cosine distance:\n",
    "    0 - if two routes are close to each other\n",
    "    1 - if two routes are far from each other"
   ]
  },
  {
   "cell_type": "code",
   "execution_count": 344,
   "metadata": {},
   "outputs": [],
   "source": [
    "similarities_routes = cosine_distances(train_matrix_grades.T, train_matrix_grades.T)"
   ]
  },
  {
   "cell_type": "code",
   "execution_count": 12,
   "metadata": {},
   "outputs": [
    {
     "name": "stdout",
     "output_type": "stream",
     "text": [
      "[0. 0. 0. ... 0. 0. 0.]\n"
     ]
    }
   ],
   "source": [
    "train_matrix_grades_for_cos[np.isnan(train_matrix_grades_for_cos)] = 0\n",
    "print(train_matrix_grades_for_cos[0])"
   ]
  },
  {
   "cell_type": "code",
   "execution_count": 13,
   "metadata": {},
   "outputs": [],
   "source": [
    "cosine_similarity_of_routes = cosine_similarity(train_matrix_grades_for_cos.T, train_matrix_grades_for_cos.T)"
   ]
  },
  {
   "cell_type": "code",
   "execution_count": 34,
   "metadata": {},
   "outputs": [],
   "source": [
    "from sklearn.metrics import pairwise_distances\n",
    "pearson_similarity_of_routes = pairwise_distances(train_matrix_grades.T, metric='correlation')"
   ]
  },
  {
   "cell_type": "code",
   "execution_count": 25,
   "metadata": {},
   "outputs": [],
   "source": [
    "def find_most_similar_routes(num_current_route, all_the_routes_grades, N_neighbours=20, similarity_metrics='cor'):\n",
    "    # get distance to origin\n",
    "    if similarity_metrics=='cos':\n",
    "        similarity_scores = cosine_similarity_of_routes[num_current_route, all_the_routes_grades]\n",
    "    elif similarity_metrics=='cor':\n",
    "        similarity_scores = pearson_similarity_of_routes[num_current_route, all_the_routes_grades]\n",
    "    # print('similarity_scores')\n",
    "    # print(similarity_scores)\n",
    "    nearest_users = np.argsort(similarity_scores, axis=0)[::-1][:N_neighbours]\n",
    "    nearest_scores = np.sort(similarity_scores, axis=0)[::-1][:N_neighbours]\n",
    "    # print('nearest_scores')\n",
    "    # print(nearest_scores)\n",
    "    # return the list of users who are the most close among the vector all_vectors_to_compare\n",
    "    # and similarity score\n",
    "    return nearest_users, nearest_scores\n"
   ]
  },
  {
   "cell_type": "code",
   "execution_count": null,
   "metadata": {},
   "outputs": [],
   "source": [
    "prediction_matrix_grades = np.zeros((len(users), len(routes)))\n",
    "\n",
    "for KNN_value in [1]:\n",
    "    prediction_matrix_grades = np.zeros((len(users), len(routes)))\n",
    "    print('KNN:', KNN_value)\n",
    "    k = 0\n",
    "    num_of_no_neighbours = 0\n",
    "    num_of_all_predictions = 0\n",
    "    sum_abs_error = 0\n",
    "    sum_squared_error = 0\n",
    "    for user_id in df_test.user_id.unique():\n",
    "        for route_id in df_test[df_test['user_id']==user_id].route_id.unique():\n",
    "            routes_graded_by_user = df_train[(df_train['user_id']==user_id) & \n",
    "                                                  (df_train['route_id']!=route_id)].values\n",
    "\n",
    "            if len(routes_graded_by_user)==0:\n",
    "                prediction_matrix_grades[user_id, route_id] = default_matrix_grades[user_id, route_id]\n",
    "                num_of_no_neighbours += 1\n",
    "            else:\n",
    "                users_neighbours = routes_graded_by_user[:, 1]\n",
    "                similar_neighbours, nearest_scores = find_most_similar_routes(route_id,\n",
    "                                                            users_neighbours,\n",
    "                                                            N_neighbours=KNN_value)\n",
    "            \n",
    "                if (nearest_scores[0]==0) or (len(similar_neighbours)==0):\n",
    "                    prediction_matrix_grades[user_id, route_id] = 0\n",
    "                    num_of_no_neighbours += 1\n",
    "                else:\n",
    "                    print('routes_graded_by_user')\n",
    "                    print(routes_graded_by_user[similar_neighbours, 2])\n",
    "                    print('np.sum(nearest_scores)')\n",
    "                    print(nearest_scores)\n",
    "                    KNN_computed_value = np.dot(routes_graded_by_user[similar_neighbours, 2],\n",
    "                                                nearest_scores)/(np.sum(nearest_scores) + 0.0000001)\n",
    "                    prediction_matrix_grades[user_id, route_id] = int(KNN_computed_value)\n",
    "\n",
    "            sum_abs_error += abs(prediction_matrix_grades[user_id, route_id] - test_matrix_grades[user_id, route_id])\n",
    "            sum_squared_error += (prediction_matrix_grades[user_id, route_id] - test_matrix_grades[user_id, route_id])**2\n",
    "            num_of_all_predictions += 1\n",
    "    print('mean absolute error: ', sum_abs_error/num_of_all_predictions)\n",
    "    print('mean squared error: ', sum_squared_error/num_of_all_predictions)\n",
    "    print('root mean squared error ', (sum_squared_error/num_of_all_predictions)**0.5)"
   ]
  },
  {
   "cell_type": "code",
   "execution_count": null,
   "metadata": {},
   "outputs": [],
   "source": [
    "print(num_of_all_predictions)"
   ]
  },
  {
   "cell_type": "code",
   "execution_count": null,
   "metadata": {},
   "outputs": [],
   "source": [
    "num_of_no_neighbours"
   ]
  },
  {
   "cell_type": "markdown",
   "metadata": {},
   "source": [
    "# User-based model"
   ]
  },
  {
   "cell_type": "code",
   "execution_count": null,
   "metadata": {
    "scrolled": false
   },
   "outputs": [],
   "source": [
    "prediction_matrix_grades = np.zeros((len(users), len(routes)))\n",
    "\n",
    "for KNN_value in [7]:\n",
    "    prediction_matrix_grades = np.zeros((len(users), len(routes)))\n",
    "    print('KNN:', KNN_value)\n",
    "    k = 0\n",
    "    num_of_no_neighbours = 0\n",
    "    num_of_all_predictions = 0\n",
    "    sum_abs_error = 0\n",
    "    sum_squared_error = 0\n",
    "    for user_id in df_test.user_id.unique():\n",
    "        for route_id in df_test[df_test['user_id']==user_id].route_id.unique():\n",
    "            users_who_graded_the_route = df_train[(df_train['route_id']==route_id) & \n",
    "                                                  (df_train['user_id']!=user_id)].values\n",
    "            # print('users and grades')\n",
    "            # print(users_who_graded_the_route)\n",
    "            if len(users_who_graded_the_route)==0:\n",
    "                sum_user_grades = sum(df_train[df_train['user_id']==user_id].grade)\n",
    "                number_of_grades = sum(df_train[df_train['user_id']==user_id].grade>0)\n",
    "                prediction_matrix_grades[user_id, route_id] = int(sum_user_grades/number_of_grades)\n",
    "                num_of_no_neighbours += 1\n",
    "                # print(num_of_no_neighbours)\n",
    "            else:\n",
    "                users_neighbours = users_who_graded_the_route[:, 0]\n",
    "                # print('all existing neighbours: ', users_neighbours)\n",
    "                similar_neighbours = find_most_similar_user(train_matrix_grades[user_id],\n",
    "                                                            train_matrix_grades[users_neighbours],\n",
    "                                                            N_neighbours=KNN_value)\n",
    "                # print('similar_neighbours user_id: ', users_neighbours[similar_neighbours][:, 0])\n",
    "                # print('grades by similar users: ', users_who_graded_the_route[similar_neighbours, 2])\n",
    "                average_by_KNN = sum(users_who_graded_the_route[similar_neighbours, 2])/len(similar_neighbours)\n",
    "                # print('average ', average_by_KNN)\n",
    "                prediction_matrix_grades[user_id, route_id] = average_by_KNN\n",
    "            sum_abs_error += abs(prediction_matrix_grades[user_id, route_id] - test_matrix_grades[user_id, route_id])\n",
    "            sum_squared_error += (prediction_matrix_grades[user_id, route_id] - test_matrix_grades[user_id, route_id])**2\n",
    "            num_of_all_predictions += 1\n",
    "    print('mean absolute error: ', sum_abs_error/num_of_all_predictions)\n",
    "    print('mean squared error: ', sum_squared_error/num_of_all_predictions)\n",
    "    print('root mean squared error ', (sum_squared_error/num_of_all_predictions)**0.5)"
   ]
  },
  {
   "cell_type": "code",
   "execution_count": null,
   "metadata": {},
   "outputs": [],
   "source": [
    "for user_id in X['user_id'].unique():\n",
    "    # print(user_id)\n",
    "    user_routes = X[X['user_id'] == user_id]['route_id']\n",
    "\n",
    "    if len(user_routes) >= 3:\n",
    "        # train, test = train_test_split(user_routes, test_size=0.2, shuffle=False)\n",
    "        # train = np.random.choice(user_routes, int(len(user_routes)*.8), replace=False)\n",
    "        train = [route for i,route in enumerate(user_routes) if i < int(len(user_routes)*.8)]\n",
    "        # test = [route for route in user_routes if route not in train]\n",
    "        # print('train size ', len(train))\n",
    "        user_routes_conter = Counter(user_routes)\n",
    "        train_counter = Counter(train)\n",
    "        test = list(user_routes_conter-train_counter)"
   ]
  },
  {
   "cell_type": "code",
   "execution_count": 373,
   "metadata": {},
   "outputs": [
    {
     "name": "stdout",
     "output_type": "stream",
     "text": [
      "[0.3080061416977407, 0.3059223513928493, 0.3049645390070881, 0.3026869927615693, 0.30230752357972335, 0.3025283322365997, 0.3017480859419861, 0.3017582698795652, 0.30190754725521124, 0.30193533112594256, 0.3021594632123227, 0.302095653365666, 0.3022385097050559, 0.302, 0.302, 0.302, 0.302, 0.302, 0.302, 0.302, 0.302, 0.302, 0.302, 0.302, 0.302, 0.302, 0.302, 0.302, 0.302, 0.302]\n"
     ]
    }
   ],
   "source": [
    "list_KNN = [1, 2, 3, 4, 5, 6, 7, 8, 9, 10, 11, 12, 13, 14, 15, 16, 17, 18, 19, 20, 21, 22,\n",
    "           23, 24, 25, 26, 27, 28, 29, 30]\n",
    "list_mae = [0.3080061416977407, 0.3059223513928493, 0.3049645390070881, 0.3026869927615693,\n",
    "           0.30230752357972335, 0.3025283322365997, 0.3017480859419861, 0.3017582698795652,\n",
    "           0.30190754725521124, 0.30193533112594256, 0.3021594632123227, 0.302095653365666,\n",
    "           0.3022385097050559, 0.302, 0.302]\n",
    "for i in range(len(list_KNN) - len(list_mae)):\n",
    "    list_mae.append(0.302)\n",
    "print(list_mae)\n",
    "list_mse = [0.5194560210572494, 0.41676902829567886, 0.3877361019716867, 0.37600259559845106,\n",
    "           0.3700182788623178, 0.36869386561379736, 0.36640537692009084, 0.3658320128409618,\n",
    "           0.36545889556377975, 0.36533793011489263, 0.3655202667517145, 0.36527001754485466,\n",
    "           0.365, 0.365, 0.365]\n",
    "for i in range(len(list_KNN) - len(list_mse)):\n",
    "    list_mse.append(0.365)\n",
    "list_rmse = [0.7207329748646508, 0.6455765084757026, 0.6226845926885349, 0.6131905051437531,\n",
    "            0.6082912779765282, 0.6072016679932601, 0.605314279461579, 0.604840485451298,\n",
    "            0.6045319640546559, 0.6044319069298812, 0.6045827211819028, 0.6043757254761765,\n",
    "            0.604, 0.6043, 0.604]\n",
    "for i in range(len(list_KNN) - len(list_rmse)):\n",
    "    list_rmse.append(0.604)\n"
   ]
  },
  {
   "cell_type": "code",
   "execution_count": 363,
   "metadata": {},
   "outputs": [
    {
     "data": {
      "text/plain": [
       "Text(0.5, 0, 'number of neighbours')"
      ]
     },
     "execution_count": 363,
     "metadata": {},
     "output_type": "execute_result"
    },
    {
     "data": {
      "image/png": "[encoded data removed]",
      "text/plain": [
       "<Figure size 432x288 with 1 Axes>"
      ]
     },
     "metadata": {
      "needs_background": "light"
     },
     "output_type": "display_data"
    }
   ],
   "source": [
    "plt.plot(list_KNN, list_mae)\n",
    "plt.legend(['mean absolute error'])\n",
    "plt.xlabel('number of neighbours')"
   ]
  },
  {
   "cell_type": "code",
   "execution_count": 254,
   "metadata": {},
   "outputs": [
    {
     "data": {
      "text/plain": [
       "Text(0.5, 0, 'number of neighbours')"
      ]
     },
     "execution_count": 254,
     "metadata": {},
     "output_type": "execute_result"
    },
    {
     "data": {
      "image/png": "[encoded data removed]",
      "text/plain": [
       "<Figure size 432x288 with 1 Axes>"
      ]
     },
     "metadata": {
      "needs_background": "light"
     },
     "output_type": "display_data"
    }
   ],
   "source": [
    "plt.plot(list_KNN, list_mse)\n",
    "plt.plot(list_KNN, list_rmse)\n",
    "plt.legend(['mean squared error', 'root mean squared error'])\n",
    "plt.xlabel('number of neighbours')"
   ]
  },
  {
   "cell_type": "code",
   "execution_count": 223,
   "metadata": {},
   "outputs": [],
   "source": [
    "max_ = 0\n",
    "for route_id in df_test.route_id.unique():\n",
    "    max_ = max(len(df_train.loc[df_train['route_id']==route_id, 'user_id']), max_)"
   ]
  },
  {
   "cell_type": "code",
   "execution_count": 224,
   "metadata": {},
   "outputs": [
    {
     "data": {
      "text/plain": [
       "23"
      ]
     },
     "execution_count": 224,
     "metadata": {},
     "output_type": "execute_result"
    }
   ],
   "source": [
    "max_"
   ]
  },
  {
   "cell_type": "code",
   "execution_count": 230,
   "metadata": {},
   "outputs": [
    {
     "name": "stdout",
     "output_type": "stream",
     "text": [
      "22795\n"
     ]
    }
   ],
   "source": [
    "print(num_of_all_predictions)"
   ]
  },
  {
   "cell_type": "code",
   "execution_count": null,
   "metadata": {},
   "outputs": [],
   "source": []
  },
  {
   "cell_type": "markdown",
   "metadata": {},
   "source": [
    "# Surprise library implementation"
   ]
  },
  {
   "cell_type": "code",
   "execution_count": 2,
   "metadata": {},
   "outputs": [],
   "source": [
    "train_file_name = 'data/train_ds_ds_v7_allhist.csv'#'data/train_ds_ds_v7_single_time_all_hist.csv'\n",
    "test_file_name = 'data/test_ds_ds_v7_allhist.csv'#'data/test_ds_ds_v7_single_time_all_hist.csv'\n",
    "df_train_svd = pd.read_csv(train_file_name)\n",
    "df_test_svd = pd.read_csv(test_file_name)\n",
    "\n",
    "df_train_svd['diff'] = df_train_svd['user_grade_id'] - df_train_svd['grade_id']\n",
    "df_test_svd['diff'] = df_test_svd['user_grade_id'] - df_test_svd['grade_id']"
   ]
  },
  {
   "cell_type": "code",
   "execution_count": 4,
   "metadata": {},
   "outputs": [
    {
     "data": {
      "text/plain": [
       "Index(['Unnamed: 0', 'train', 'date', 'route_id', 'user_id', 'grade_id',\n",
       "       'user_grade_id', 'user_grade_eval_bias', 'route_eval_bias',\n",
       "       'avg_rs_grade_diff', 'route_perc_proposed', 'user_perc_proposed',\n",
       "       'route_eligible', 'user_eligible', 'avg_user_grade_id_per_grade',\n",
       "       'avg_rating_per_route', 'avg_tries_per_route',\n",
       "       'avg_user_grade_id_per_route', 'avg_climb_type_per_route',\n",
       "       'avg_user_grade_id_rp_per_grade', 'diff'],\n",
       "      dtype='object')"
      ]
     },
     "execution_count": 4,
     "metadata": {},
     "output_type": "execute_result"
    }
   ],
   "source": [
    "df_train_svd.columns"
   ]
  },
  {
   "cell_type": "code",
   "execution_count": 12,
   "metadata": {},
   "outputs": [],
   "source": [
    "train_file_name = 'data/train_ds_ds_v7_single_time_all_hist.csv'\n",
    "test_file_name = 'data/test_ds_ds_v7_single_time_all_hist.csv'\n",
    "df_train_svd = pd.read_csv(train_file_name)\n",
    "df_test_svd = pd.read_csv(test_file_name)\n",
    "\n",
    "df_train_svd['diff'] = df_train_svd['user_grade_id'] - df_train_svd['grade_id']\n",
    "df_test_svd['diff'] = df_test_svd['user_grade_id'] - df_test_svd['grade_id']"
   ]
  },
  {
   "cell_type": "code",
   "execution_count": 74,
   "metadata": {},
   "outputs": [
    {
     "data": {
      "text/plain": [
       "188671"
      ]
     },
     "execution_count": 74,
     "metadata": {},
     "output_type": "execute_result"
    }
   ],
   "source": [
    "len(df_train_svd)"
   ]
  },
  {
   "cell_type": "code",
   "execution_count": 75,
   "metadata": {},
   "outputs": [
    {
     "data": {
      "text/plain": [
       "47168"
      ]
     },
     "execution_count": 75,
     "metadata": {},
     "output_type": "execute_result"
    }
   ],
   "source": [
    "len(df_test_svd)"
   ]
  },
  {
   "cell_type": "code",
   "execution_count": 26,
   "metadata": {},
   "outputs": [
    {
     "data": {
      "text/plain": [
       "3340"
      ]
     },
     "execution_count": 26,
     "metadata": {},
     "output_type": "execute_result"
    }
   ],
   "source": [
    "len(df_train_svd.user_id.unique())"
   ]
  },
  {
   "cell_type": "code",
   "execution_count": 27,
   "metadata": {},
   "outputs": [
    {
     "data": {
      "text/plain": [
       "3326"
      ]
     },
     "execution_count": 27,
     "metadata": {},
     "output_type": "execute_result"
    }
   ],
   "source": [
    "len(df_test_svd.user_id.unique())"
   ]
  },
  {
   "cell_type": "code",
   "execution_count": 45,
   "metadata": {},
   "outputs": [],
   "source": []
  },
  {
   "cell_type": "code",
   "execution_count": 5,
   "metadata": {},
   "outputs": [
    {
     "data": {
      "text/plain": [
       "0.4058238763921391"
      ]
     },
     "execution_count": 5,
     "metadata": {},
     "output_type": "execute_result"
    }
   ],
   "source": [
    "(sum(df_test_svd['diff']**2)/len(df_test_svd))**0.5"
   ]
  },
  {
   "cell_type": "code",
   "execution_count": 66,
   "metadata": {},
   "outputs": [
    {
     "data": {
      "text/plain": [
       "0.14743046132971507"
      ]
     },
     "execution_count": 66,
     "metadata": {},
     "output_type": "execute_result"
    }
   ],
   "source": [
    "sum(df_test_svd['diff']**2)/len(df_test_svd)"
   ]
  },
  {
   "cell_type": "code",
   "execution_count": 96,
   "metadata": {},
   "outputs": [
    {
     "data": {
      "text/plain": [
       "0.1090320184848985"
      ]
     },
     "execution_count": 96,
     "metadata": {},
     "output_type": "execute_result"
    }
   ],
   "source": [
    "df_test_svd['diff'] = abs(df_test_svd['diff'])\n",
    "sum(df_test_svd['diff'])/len(df_test_svd)"
   ]
  },
  {
   "cell_type": "code",
   "execution_count": 19,
   "metadata": {},
   "outputs": [],
   "source": [
    "# A reader is still needed but only the rating_scale param is requiered.\n",
    "mmin, mmax = -3, 3\n",
    "reader = Reader(rating_scale=(mmin, mmax))\n",
    "\n",
    "# The columns must correspond to user id, item id and ratings (in that order).\n",
    "data = Dataset.load_from_df(df_train_svd[['user_id','route_id','diff']], reader)"
   ]
  },
  {
   "cell_type": "code",
   "execution_count": 20,
   "metadata": {},
   "outputs": [],
   "source": [
    "# testset_model_surprise = Dataset.load_from_df(df_test_svd[['user_id','route_id','diff']], reader).build_full_trainset()\n",
    "trainset_model_surprise = Dataset.load_from_df(df_train_svd[['user_id','route_id','diff']], reader)\n",
    "# testset = testset_model_surprise.build_testset()\n",
    "testset = df_test_svd[['user_id','route_id','diff']].values\n",
    "trainset = trainset_model_surprise.build_full_trainset()"
   ]
  },
  {
   "cell_type": "raw",
   "metadata": {},
   "source": [
    "# Train and test datasets\n",
    "trainset = data.build_full_trainset()\n",
    "testset = df_test_svd[['user_id','route_id','diff']].values"
   ]
  },
  {
   "cell_type": "code",
   "execution_count": 71,
   "metadata": {
    "scrolled": false
   },
   "outputs": [
    {
     "name": "stdout",
     "output_type": "stream",
     "text": [
      "reg_pu:  0.5  reg_qi:  0.5 reg_bu 0.01  lr_bu:  0.1  lr_bi:  0.005\n",
      "RMSE: 1.0692\n",
      "MSE: 1.1433\n",
      "MAE:  0.5858\n"
     ]
    }
   ],
   "source": [
    "list_lr_bu = [0.1]\n",
    "list_lr_bi = [0.005]\n",
    "list_lr_pu = [0.01]\n",
    "list_lr_qi = [0.01]\n",
    "list_reg_bu = [0.01]\n",
    "list_reg_bi = [0.005]\n",
    "list_reg_pu = [0.5]\n",
    "list_reg_qi = [0.5]\n",
    "list_epochs = [100]\n",
    "\n",
    "for reg_pu in list_reg_pu:\n",
    "    for reg_qi in list_reg_qi:\n",
    "        for reg_bu in list_reg_bu:\n",
    "            for lr_bu in list_lr_bu:\n",
    "                for lr_bi in list_lr_bi:\n",
    "                    print('reg_pu: ', reg_pu, ' reg_qi: ', reg_qi, 'reg_bu', reg_bu, ' lr_bu: ', lr_bu, ' lr_bi: ', lr_bi)\n",
    "                    algo = NMF(n_factors = 50,\n",
    "                              n_epochs = 20,\n",
    "                              biased = True,\n",
    "                              verbose=False,\n",
    "                              reg_pu = reg_pu,\n",
    "                              reg_qi = reg_qi,\n",
    "                              reg_bu = reg_pu,\n",
    "                              lr_bu = lr_bu,\n",
    "                              lr_bi = lr_bi,\n",
    "                              init_low = 0.1)\n",
    "                    predictions = algo.fit(trainset).test(testset)\n",
    "                    accuracy.rmse(predictions)\n",
    "                    accuracy.mse(predictions)\n",
    "                    accuracy.mae(predictions)"
   ]
  },
  {
   "cell_type": "code",
   "execution_count": 418,
   "metadata": {
    "scrolled": true
   },
   "outputs": [
    {
     "data": {
      "text/plain": [
       "3995"
      ]
     },
     "execution_count": 418,
     "metadata": {},
     "output_type": "execute_result"
    }
   ],
   "source": [
    "len(testset)"
   ]
  },
  {
   "cell_type": "code",
   "execution_count": 102,
   "metadata": {
    "scrolled": true
   },
   "outputs": [
    {
     "name": "stdout",
     "output_type": "stream",
     "text": [
      "RMSE: 0.4339\n",
      "MSE: 0.1883\n",
      "MAE:  0.2054\n"
     ]
    },
    {
     "data": {
      "text/plain": [
       "0.20542308263724265"
      ]
     },
     "execution_count": 102,
     "metadata": {},
     "output_type": "execute_result"
    }
   ],
   "source": [
    "from surprise import SlopeOne\n",
    "\n",
    "algo = SlopeOne()\n",
    "predictions = algo.fit(trainset).test(testset)\n",
    "accuracy.rmse(predictions)\n",
    "accuracy.mse(predictions)\n",
    "accuracy.mae(predictions)"
   ]
  },
  {
   "cell_type": "code",
   "execution_count": 41,
   "metadata": {
    "scrolled": true
   },
   "outputs": [
    {
     "ename": "NameError",
     "evalue": "name 'algo' is not defined",
     "output_type": "error",
     "traceback": [
      "\u001b[0;31m---------------------------------------------------------------------------\u001b[0m",
      "\u001b[0;31mNameError\u001b[0m                                 Traceback (most recent call last)",
      "\u001b[0;32m<ipython-input-41-93c041866129>\u001b[0m in \u001b[0;36m<module>\u001b[0;34m\u001b[0m\n\u001b[1;32m      4\u001b[0m \u001b[0musers_count_dic\u001b[0m \u001b[0;34m=\u001b[0m \u001b[0;34m{\u001b[0m\u001b[0;34m}\u001b[0m\u001b[0;34m\u001b[0m\u001b[0;34m\u001b[0m\u001b[0m\n\u001b[1;32m      5\u001b[0m \u001b[0;32mfor\u001b[0m \u001b[0muser_id\u001b[0m\u001b[0;34m,\u001b[0m \u001b[0mroute_id\u001b[0m\u001b[0;34m,\u001b[0m \u001b[0mdiff\u001b[0m \u001b[0;32min\u001b[0m \u001b[0mtestset\u001b[0m\u001b[0;34m:\u001b[0m\u001b[0;34m\u001b[0m\u001b[0;34m\u001b[0m\u001b[0m\n\u001b[0;32m----> 6\u001b[0;31m     \u001b[0mpred\u001b[0m \u001b[0;34m=\u001b[0m \u001b[0malgo\u001b[0m\u001b[0;34m.\u001b[0m\u001b[0mpredict\u001b[0m\u001b[0;34m(\u001b[0m\u001b[0muser_id\u001b[0m\u001b[0;34m,\u001b[0m \u001b[0mroute_id\u001b[0m\u001b[0;34m,\u001b[0m \u001b[0mr_ui\u001b[0m\u001b[0;34m=\u001b[0m\u001b[0mdiff\u001b[0m\u001b[0;34m,\u001b[0m \u001b[0mverbose\u001b[0m\u001b[0;34m=\u001b[0m\u001b[0;32mFalse\u001b[0m\u001b[0;34m)\u001b[0m\u001b[0;34m\u001b[0m\u001b[0;34m\u001b[0m\u001b[0m\n\u001b[0m\u001b[1;32m      7\u001b[0m     \u001b[0;32mif\u001b[0m \u001b[0muser_id\u001b[0m \u001b[0;32min\u001b[0m \u001b[0musers_dic\u001b[0m\u001b[0;34m.\u001b[0m\u001b[0mkeys\u001b[0m\u001b[0;34m(\u001b[0m\u001b[0;34m)\u001b[0m\u001b[0;34m:\u001b[0m\u001b[0;34m\u001b[0m\u001b[0;34m\u001b[0m\u001b[0m\n\u001b[1;32m      8\u001b[0m         \u001b[0musers_dic\u001b[0m\u001b[0;34m[\u001b[0m\u001b[0muser_id\u001b[0m\u001b[0;34m]\u001b[0m \u001b[0;34m+=\u001b[0m \u001b[0mabs\u001b[0m\u001b[0;34m(\u001b[0m\u001b[0mnp\u001b[0m\u001b[0;34m.\u001b[0m\u001b[0mround\u001b[0m\u001b[0;34m(\u001b[0m\u001b[0mpred\u001b[0m\u001b[0;34m[\u001b[0m\u001b[0;36m3\u001b[0m\u001b[0;34m]\u001b[0m\u001b[0;34m)\u001b[0m \u001b[0;34m-\u001b[0m \u001b[0mdiff\u001b[0m\u001b[0;34m)\u001b[0m\u001b[0;34m\u001b[0m\u001b[0;34m\u001b[0m\u001b[0m\n",
      "\u001b[0;31mNameError\u001b[0m: name 'algo' is not defined"
     ]
    }
   ],
   "source": [
    "all_users = 0\n",
    "number_of_users_with_less_mae = 0\n",
    "users_dic = {}\n",
    "users_count_dic = {}\n",
    "for user_id, route_id, diff in testset:\n",
    "    pred = algo.predict(user_id, route_id, r_ui=diff, verbose=False)\n",
    "    if user_id in users_dic.keys():\n",
    "        users_dic[user_id] += abs(np.round(pred[3]) - diff)\n",
    "        users_count_dic[user_id] += 1\n",
    "    else:\n",
    "        users_dic[user_id] = abs(np.round(pred[3]) - diff)\n",
    "        users_count_dic[user_id] = 1\n",
    "        all_users += 1\n",
    "for user_id in users_dic.keys():\n",
    "    if users_dic[user_id]/users_count_dic[user_id] < 0.139:\n",
    "        number_of_users_with_less_mae += 1\n",
    "print(number_of_users_with_less_mae)\n",
    "print(all_users)"
   ]
  },
  {
   "cell_type": "code",
   "execution_count": 124,
   "metadata": {},
   "outputs": [
    {
     "name": "stdout",
     "output_type": "stream",
     "text": [
      "0.875\n"
     ]
    }
   ],
   "source": [
    "num_tp = 0\n",
    "num_all = 0\n",
    "for user_id, route_id, diff in testset:\n",
    "    pred = algo.predict(user_id, route_id, r_ui=diff, verbose=False)\n",
    "    if abs(np.round(pred[3]) - diff)==0:\n",
    "        num_tp += 1\n",
    "    num_all += 1\n",
    "print(num_tp/num_all)"
   ]
  },
  {
   "cell_type": "code",
   "execution_count": 27,
   "metadata": {
    "scrolled": false
   },
   "outputs": [
    {
     "name": "stdout",
     "output_type": "stream",
     "text": [
      "KNN  pearson_baseline  user_based:  False\n",
      "k_neighbours:  8\n",
      "Estimating biases using als...\n",
      "Computing the pearson_baseline similarity matrix...\n",
      "Done computing similarity matrix.\n",
      "RMSE: 0.3905\n",
      "MSE: 0.1525\n",
      "MAE:  0.1228\n"
     ]
    }
   ],
   "source": [
    "sim_options = {\n",
    "    'name': 'pearson_baseline', #pearson_baseline msd cosine pearson\n",
    "     'shrinkage': 10,\n",
    "      'user_based': False\n",
    "    }\n",
    "\n",
    "bsl_options = {'method': 'als',\n",
    "               'learning_rate': .001,\n",
    "               'n_epochs': 20,\n",
    "               'reg_u': 12,\n",
    "               'reg_i': 2\n",
    "               }\n",
    "\n",
    "print('KNN ', sim_options['name'], ' user_based: ', sim_options['user_based'])\n",
    "for k_neighbours in range(8, 9):\n",
    "    print('k_neighbours: ', k_neighbours)\n",
    "    algo_knn_basic = KNNBasic( #KNNBaseline( #KNNBasic(# KNNWithZScore KNNWithMeans \n",
    "        k=k_neighbours,\n",
    "        min_k=1, \n",
    "        sim_options=sim_options,\n",
    "        #bsl_options=bsl_options\n",
    "    )\n",
    "    predictions = algo_knn_basic.fit(trainset).test(testset)\n",
    "    accuracy.rmse(predictions)\n",
    "    accuracy.mse(predictions)\n",
    "    accuracy.mae(predictions)"
   ]
  },
  {
   "cell_type": "markdown",
   "metadata": {},
   "source": [
    "# Reading file with predictions of the model"
   ]
  },
  {
   "cell_type": "code",
   "execution_count": 112,
   "metadata": {},
   "outputs": [],
   "source": [
    "prediction_SVD_single_time = pd.read_csv('/Users/yustinaivanova/git_projects/CaseRecommender/datasets/te_ds_ds_v7_allhist.txt', sep='\\t', names=['user_id', 'route_id', 'diff'])"
   ]
  },
  {
   "cell_type": "code",
   "execution_count": null,
   "metadata": {},
   "outputs": [],
   "source": [
    "prediction_SVD_single_time = pd.read_csv('/Users/yustinaivanova/git_projects/CaseRecommender/datasets/tr_ds_ds_v7_allhist.txt', sep='\\t', names=['user_id', 'route_id', 'diff'])"
   ]
  },
  {
   "cell_type": "code",
   "execution_count": 113,
   "metadata": {},
   "outputs": [
    {
     "data": {
      "text/html": [
       "<div>\n",
       "<style scoped>\n",
       "    .dataframe tbody tr th:only-of-type {\n",
       "        vertical-align: middle;\n",
       "    }\n",
       "\n",
       "    .dataframe tbody tr th {\n",
       "        vertical-align: top;\n",
       "    }\n",
       "\n",
       "    .dataframe thead th {\n",
       "        text-align: right;\n",
       "    }\n",
       "</style>\n",
       "<table border=\"1\" class=\"dataframe\">\n",
       "  <thead>\n",
       "    <tr style=\"text-align: right;\">\n",
       "      <th></th>\n",
       "      <th>user_id</th>\n",
       "      <th>route_id</th>\n",
       "      <th>diff</th>\n",
       "    </tr>\n",
       "  </thead>\n",
       "  <tbody>\n",
       "    <tr>\n",
       "      <th>0</th>\n",
       "      <td>30119</td>\n",
       "      <td>1011</td>\n",
       "      <td>0</td>\n",
       "    </tr>\n",
       "    <tr>\n",
       "      <th>1</th>\n",
       "      <td>30119</td>\n",
       "      <td>1189</td>\n",
       "      <td>0</td>\n",
       "    </tr>\n",
       "    <tr>\n",
       "      <th>2</th>\n",
       "      <td>30119</td>\n",
       "      <td>1020</td>\n",
       "      <td>0</td>\n",
       "    </tr>\n",
       "    <tr>\n",
       "      <th>3</th>\n",
       "      <td>30119</td>\n",
       "      <td>1023</td>\n",
       "      <td>0</td>\n",
       "    </tr>\n",
       "    <tr>\n",
       "      <th>4</th>\n",
       "      <td>30119</td>\n",
       "      <td>1048</td>\n",
       "      <td>0</td>\n",
       "    </tr>\n",
       "  </tbody>\n",
       "</table>\n",
       "</div>"
      ],
      "text/plain": [
       "   user_id  route_id  diff\n",
       "0    30119      1011     0\n",
       "1    30119      1189     0\n",
       "2    30119      1020     0\n",
       "3    30119      1023     0\n",
       "4    30119      1048     0"
      ]
     },
     "execution_count": 113,
     "metadata": {},
     "output_type": "execute_result"
    }
   ],
   "source": [
    "prediction_SVD_single_time.head()"
   ]
  },
  {
   "cell_type": "code",
   "execution_count": 114,
   "metadata": {},
   "outputs": [
    {
     "data": {
      "text/plain": [
       "48472"
      ]
     },
     "execution_count": 114,
     "metadata": {},
     "output_type": "execute_result"
    }
   ],
   "source": [
    "len(prediction_SVD_single_time)"
   ]
  },
  {
   "cell_type": "code",
   "execution_count": 115,
   "metadata": {},
   "outputs": [
    {
     "data": {
      "text/html": [
       "<div>\n",
       "<style scoped>\n",
       "    .dataframe tbody tr th:only-of-type {\n",
       "        vertical-align: middle;\n",
       "    }\n",
       "\n",
       "    .dataframe tbody tr th {\n",
       "        vertical-align: top;\n",
       "    }\n",
       "\n",
       "    .dataframe thead th {\n",
       "        text-align: right;\n",
       "    }\n",
       "</style>\n",
       "<table border=\"1\" class=\"dataframe\">\n",
       "  <thead>\n",
       "    <tr style=\"text-align: right;\">\n",
       "      <th></th>\n",
       "      <th>user_id</th>\n",
       "      <th>route_id</th>\n",
       "      <th>diff</th>\n",
       "    </tr>\n",
       "  </thead>\n",
       "  <tbody>\n",
       "  </tbody>\n",
       "</table>\n",
       "</div>"
      ],
      "text/plain": [
       "Empty DataFrame\n",
       "Columns: [user_id, route_id, diff]\n",
       "Index: []"
      ]
     },
     "execution_count": 115,
     "metadata": {},
     "output_type": "execute_result"
    }
   ],
   "source": [
    "prediction_SVD_single_time[prediction_SVD_single_time.user_id==49]"
   ]
  },
  {
   "cell_type": "code",
   "execution_count": 116,
   "metadata": {},
   "outputs": [],
   "source": [
    "t = pd.read_csv('/Users/yustinaivanova/git_projects/CaseRecommender/computation_results/res_gsvd_2abb44e6-923d-11eb-add4-38f9d3579a46ds_ds_v7_allhist.txt', sep='\\t', names=['user_id', 'route_id', 'diff'])"
   ]
  },
  {
   "cell_type": "code",
   "execution_count": 122,
   "metadata": {},
   "outputs": [],
   "source": [
    "t = pd.read_csv('/Users/yustinaivanova/git_projects/CaseRecommender/datasets/tr_ds_ds_v7_single_time_all_hist.txt', sep='\\t', names=['user_id', 'route_id', 'diff'])"
   ]
  },
  {
   "cell_type": "code",
   "execution_count": 123,
   "metadata": {},
   "outputs": [
    {
     "data": {
      "text/plain": [
       "188671"
      ]
     },
     "execution_count": 123,
     "metadata": {},
     "output_type": "execute_result"
    }
   ],
   "source": [
    "len(t)"
   ]
  },
  {
   "cell_type": "code",
   "execution_count": 118,
   "metadata": {},
   "outputs": [],
   "source": [
    "t['real_diff'] = prediction_SVD_single_time['diff']"
   ]
  },
  {
   "cell_type": "code",
   "execution_count": 119,
   "metadata": {},
   "outputs": [
    {
     "data": {
      "text/html": [
       "<div>\n",
       "<style scoped>\n",
       "    .dataframe tbody tr th:only-of-type {\n",
       "        vertical-align: middle;\n",
       "    }\n",
       "\n",
       "    .dataframe tbody tr th {\n",
       "        vertical-align: top;\n",
       "    }\n",
       "\n",
       "    .dataframe thead th {\n",
       "        text-align: right;\n",
       "    }\n",
       "</style>\n",
       "<table border=\"1\" class=\"dataframe\">\n",
       "  <thead>\n",
       "    <tr style=\"text-align: right;\">\n",
       "      <th></th>\n",
       "      <th>user_id</th>\n",
       "      <th>route_id</th>\n",
       "      <th>diff</th>\n",
       "      <th>real_diff</th>\n",
       "    </tr>\n",
       "  </thead>\n",
       "  <tbody>\n",
       "    <tr>\n",
       "      <th>0</th>\n",
       "      <td>33</td>\n",
       "      <td>86759</td>\n",
       "      <td>-0.075725</td>\n",
       "      <td>0</td>\n",
       "    </tr>\n",
       "    <tr>\n",
       "      <th>1</th>\n",
       "      <td>33</td>\n",
       "      <td>87541</td>\n",
       "      <td>-0.119998</td>\n",
       "      <td>0</td>\n",
       "    </tr>\n",
       "    <tr>\n",
       "      <th>2</th>\n",
       "      <td>33</td>\n",
       "      <td>70677</td>\n",
       "      <td>-0.061274</td>\n",
       "      <td>0</td>\n",
       "    </tr>\n",
       "    <tr>\n",
       "      <th>3</th>\n",
       "      <td>33</td>\n",
       "      <td>71473</td>\n",
       "      <td>-0.064941</td>\n",
       "      <td>0</td>\n",
       "    </tr>\n",
       "    <tr>\n",
       "      <th>4</th>\n",
       "      <td>33</td>\n",
       "      <td>87984</td>\n",
       "      <td>-0.068642</td>\n",
       "      <td>0</td>\n",
       "    </tr>\n",
       "  </tbody>\n",
       "</table>\n",
       "</div>"
      ],
      "text/plain": [
       "   user_id  route_id      diff  real_diff\n",
       "0       33     86759 -0.075725          0\n",
       "1       33     87541 -0.119998          0\n",
       "2       33     70677 -0.061274          0\n",
       "3       33     71473 -0.064941          0\n",
       "4       33     87984 -0.068642          0"
      ]
     },
     "execution_count": 119,
     "metadata": {},
     "output_type": "execute_result"
    }
   ],
   "source": [
    "t.head()"
   ]
  },
  {
   "cell_type": "code",
   "execution_count": 120,
   "metadata": {},
   "outputs": [
    {
     "name": "stdout",
     "output_type": "stream",
     "text": [
      "avg_rmse_per_user:  0.33031519169475637\n",
      "2874\n",
      "3326\n"
     ]
    }
   ],
   "source": [
    "all_users = 0\n",
    "number_of_users_with_less_mae = 0\n",
    "users_dic = {}\n",
    "users_count_dic = {}\n",
    "for ind in t.index:\n",
    "    user_id, route_id, diff, real_diff = t.loc[ind, :]\n",
    "    if user_id in users_dic.keys():\n",
    "        users_dic[user_id] += (np.round(real_diff) - diff)**2\n",
    "        users_count_dic[user_id] += 1\n",
    "    else:\n",
    "        users_dic[user_id] = (np.round(real_diff) - diff)**2\n",
    "        users_count_dic[user_id] = 1\n",
    "        all_users += 1\n",
    "avg_rmse = 0\n",
    "for user_id in users_dic.keys():\n",
    "    avg_rmse += (users_dic[user_id]/users_count_dic[user_id])**0.5\n",
    "    if users_dic[user_id]/users_count_dic[user_id] < 0.406:\n",
    "        number_of_users_with_less_mae += 1\n",
    "print('avg_rmse_per_user: ', avg_rmse/all_users)\n",
    "print(number_of_users_with_less_mae)\n",
    "print(all_users)"
   ]
  },
  {
   "cell_type": "code",
   "execution_count": 121,
   "metadata": {},
   "outputs": [
    {
     "name": "stdout",
     "output_type": "stream",
     "text": [
      "std:  0.2802612226307025\n"
     ]
    }
   ],
   "source": [
    "std = 0\n",
    "for user_id in users_dic.keys():\n",
    "    std += ((users_dic[user_id]/users_count_dic[user_id])**0.5 - avg_rmse/all_users)**2\n",
    "std = (std/all_users)**0.5\n",
    "print('std: ', std)"
   ]
  },
  {
   "cell_type": "code",
   "execution_count": null,
   "metadata": {},
   "outputs": [],
   "source": []
  },
  {
   "cell_type": "code",
   "execution_count": 28,
   "metadata": {
    "scrolled": true
   },
   "outputs": [
    {
     "name": "stdout",
     "output_type": "stream",
     "text": [
      "avg_rmse_per_user:  0.255878034462318\n",
      "1555\n",
      "1772\n"
     ]
    }
   ],
   "source": [
    "all_users = 0\n",
    "number_of_users_with_less_mae = 0\n",
    "users_dic = {}\n",
    "users_count_dic = {}\n",
    "for user_id, route_id, diff in testset:\n",
    "    pred = algo_knn_basic.predict(user_id, route_id, r_ui=diff, verbose=False)\n",
    "    if user_id in users_dic.keys():\n",
    "        users_dic[user_id] += (np.round(pred[3]) - diff)**2\n",
    "        users_count_dic[user_id] += 1\n",
    "    else:\n",
    "        users_dic[user_id] = (np.round(pred[3]) - diff)**2\n",
    "        users_count_dic[user_id] = 1\n",
    "        all_users += 1\n",
    "avg_rmse = 0\n",
    "for user_id in users_dic.keys():\n",
    "    avg_rmse += (users_dic[user_id]/users_count_dic[user_id])**0.5\n",
    "    if users_dic[user_id]/users_count_dic[user_id] < 0.384:\n",
    "        number_of_users_with_less_mae += 1\n",
    "print('avg_rmse_per_user: ', avg_rmse/all_users)\n",
    "print(number_of_users_with_less_mae)\n",
    "print(all_users)"
   ]
  },
  {
   "cell_type": "code",
   "execution_count": 29,
   "metadata": {},
   "outputs": [
    {
     "name": "stdout",
     "output_type": "stream",
     "text": [
      "std:  0.32813489875516844\n"
     ]
    }
   ],
   "source": [
    "std = 0\n",
    "for user_id in users_dic.keys():\n",
    "    std += ((users_dic[user_id]/users_count_dic[user_id])**0.5 - avg_rmse/all_users)**2\n",
    "std = (std/all_users)**0.5\n",
    "print('std: ', std)"
   ]
  },
  {
   "cell_type": "code",
   "execution_count": 142,
   "metadata": {},
   "outputs": [
    {
     "name": "stdout",
     "output_type": "stream",
     "text": [
      "0.901902129064202\n"
     ]
    }
   ],
   "source": [
    "num_tp = 0\n",
    "num_all = 0\n",
    "for user_id, route_id, diff in testset:\n",
    "    pred = algo_knn_basic.predict(user_id, route_id, r_ui=diff, verbose=False)\n",
    "    if abs(np.round(pred[3]) - diff)==0:\n",
    "        num_tp += 1\n",
    "    num_all += 1\n",
    "print(num_tp/num_all)"
   ]
  },
  {
   "cell_type": "code",
   "execution_count": 37,
   "metadata": {},
   "outputs": [
    {
     "data": {
      "text/plain": [
       "47168"
      ]
     },
     "execution_count": 37,
     "metadata": {},
     "output_type": "execute_result"
    }
   ],
   "source": [
    "len(testset)"
   ]
  },
  {
   "cell_type": "code",
   "execution_count": 103,
   "metadata": {
    "scrolled": false
   },
   "outputs": [
    {
     "name": "stdout",
     "output_type": "stream",
     "text": [
      " epochs:  20  lr_bu:  0.01  lr_bi:  0.1  lr_pu:  0.001  lr_qi:  0.5\n",
      "reg_bu:  0.1  reg_bi:  0.5  reg_pu:  0.1  reg_qi:  0.5\n",
      "MAE: 0.170\n",
      "MSE : 0.142\n",
      "RMSE: 0.377\n"
     ]
    }
   ],
   "source": [
    "list_lr = [3, 0.5, 0.1, 0.05, 0.005, 0.001, 0.0001]\n",
    "list_reg = [0.75, 0.5, 0.1, 0.05, 0.001, 0.0001]\n",
    "list_lr_bu = [0.01]\n",
    "list_lr_bi = [0.1]\n",
    "list_lr_pu = [0.001]\n",
    "list_lr_qi = [0.5]\n",
    "list_reg_bu = [0.1]\n",
    "list_reg_bi = [0.5]\n",
    "list_reg_pu = [0.1]\n",
    "list_reg_qi = [0.5]\n",
    "list_epochs = [20]\n",
    "for epochs_ in list_epochs:\n",
    "    for lr_bu_ in list_lr_bu:\n",
    "        for lr_bi_ in list_lr_bi:\n",
    "            for lr_pu_ in list_lr_pu:\n",
    "                for lr_qi_ in list_lr_qi:\n",
    "                    for reg_bu_ in list_reg_bu:\n",
    "                        for reg_bi_ in list_reg_bi:\n",
    "                            for reg_pu_ in list_reg_pu:\n",
    "                                for reg_qi_ in list_reg_qi:\n",
    "                                    algo = SVD(n_factors=100, # The number of factors. Default is 100.\n",
    "                                               n_epochs=100, # The number of iteration of the SGD procedure. Default is 20.\n",
    "                                               biased = True, # Whether to use baselines (or biases). See note above. Default is True.\n",
    "                                               init_mean =0, # The mean of the normal distribution for factor vectors initialization. Default is 0.\n",
    "                                               init_std_dev=0.1, # The standard deviation of the normal distribution for factor vectors initialization.\n",
    "                                                                   # Default is 0.1.\n",
    "                                               lr_all=0.005, # The learning rate for all parameters. Default is 0.005.\n",
    "                                               reg_all=0.1, # The regularization term for all parameters. Default is 0.02.\n",
    "                                               lr_bu=lr_bu_, # The learning rate for 𝑏𝑢.\n",
    "                                               lr_bi=lr_bi_, #\n",
    "                                               lr_pu=lr_pu_, #\n",
    "                                               lr_qi=lr_qi_, #\n",
    "                                               reg_bu=reg_bu_, #\n",
    "                                               reg_bi=reg_bi_, #\n",
    "                                               reg_pu=reg_pu_, #\n",
    "                                               reg_qi=reg_qi_ #\n",
    "                                              )\n",
    "                                    algo.fit(trainset)\n",
    "                                    # Evaluation\n",
    "                                    predictions = algo.test(testset)\n",
    "                                    print(' epochs: ', epochs_, ' lr_bu: ', lr_bu_, ' lr_bi: ', lr_bi_, ' lr_pu: ', lr_pu_, ' lr_qi: ', lr_qi_)\n",
    "                                    print('reg_bu: ', reg_bu_, ' reg_bi: ', reg_bi_, ' reg_pu: ', reg_pu_, ' reg_qi: ', reg_qi_)\n",
    "                                    print(f'MAE: {accuracy.mae(predictions, verbose=False):.3f}')\n",
    "                                    print(f'MSE : {accuracy.mse(predictions, verbose=False):.3f}')\n",
    "                                    print(f'RMSE: {accuracy.rmse(predictions, verbose=False):.3f}')"
   ]
  },
  {
   "cell_type": "code",
   "execution_count": null,
   "metadata": {},
   "outputs": [],
   "source": [
    "#trainset\n",
    "#testset"
   ]
  },
  {
   "cell_type": "code",
   "execution_count": 32,
   "metadata": {},
   "outputs": [
    {
     "name": "stdout",
     "output_type": "stream",
     "text": [
      "Estimating biases using als...\n",
      "Estimating biases using als...\n",
      "Estimating biases using als...\n",
      "Estimating biases using als...\n",
      "Estimating biases using als...\n",
      "Evaluating RMSE, MAE of algorithm BaselineOnly on 5 split(s).\n",
      "\n",
      "                  Fold 1  Fold 2  Fold 3  Fold 4  Fold 5  Mean    Std     \n",
      "RMSE (testset)    0.4219  0.4199  0.4171  0.4241  0.4223  0.4211  0.0024  \n",
      "MAE (testset)     0.1822  0.1818  0.1813  0.1842  0.1829  0.1825  0.0010  \n",
      "Fit time          0.53    0.55    0.53    0.52    0.58    0.54    0.02    \n",
      "Test time         0.32    0.31    0.29    0.29    0.29    0.30    0.01    \n"
     ]
    },
    {
     "data": {
      "text/plain": [
       "{'test_rmse': array([0.42186076, 0.41988021, 0.41714933, 0.42407543, 0.42229512]),\n",
       " 'test_mae': array([0.18223528, 0.18179274, 0.18125258, 0.18424824, 0.18290278]),\n",
       " 'fit_time': (0.5266039371490479,\n",
       "  0.5486421585083008,\n",
       "  0.5268092155456543,\n",
       "  0.5237429141998291,\n",
       "  0.575430154800415),\n",
       " 'test_time': (0.3214900493621826,\n",
       "  0.30975914001464844,\n",
       "  0.2918400764465332,\n",
       "  0.28946399688720703,\n",
       "  0.2872169017791748)}"
      ]
     },
     "execution_count": 32,
     "metadata": {},
     "output_type": "execute_result"
    }
   ],
   "source": [
    "# The columns must correspond to user id, item id and ratings (in that order).\n",
    "data = Dataset.load_from_df(df_train_svd[['user_id','route_id','diff']], reader)"
   ]
  },
  {
   "cell_type": "code",
   "execution_count": null,
   "metadata": {},
   "outputs": [],
   "source": [
    "\n",
    "param_grid = {'n_epochs': [20, 30, 50],\n",
    "              'lr_bu': [0.5, 0.1, 0.05, 0.005, 0.001, 0.0001],\n",
    "              'lr_bi': [0.5, 0.1, 0.05, 0.005, 0.001, 0.0001],\n",
    "              'lr_pu': [0.5, 0.1, 0.05, 0.005, 0.001, 0.0001],\n",
    "              'lr_qi': [0.5, 0.1, 0.05, 0.005, 0.001, 0.0001],\n",
    "              'reg_bu': [0.5, 0.1, 0.05, 0.005, 0.001, 0.0001],\n",
    "              'reg_bi': [0.5, 0.1, 0.05, 0.005, 0.001, 0.0001],\n",
    "              'reg_pu': [0.5, 0.1, 0.05, 0.005, 0.001, 0.0001],\n",
    "              'reg_qi': [0.5, 0.1, 0.05, 0.005, 0.001, 0.0001],\n",
    "             }\n",
    "                                               \n",
    "gs = GridSearchCV(SVD, param_grid, measures=['rmse', 'mae'], cv=3)\n",
    "\n",
    "gs.fit(data)\n",
    "\n",
    "# best RMSE score\n",
    "print(gs.best_score['rmse'])\n",
    "\n",
    "# combination of parameters that gave the best RMSE score\n",
    "print(gs.best_params['rmse'])"
   ]
  },
  {
   "cell_type": "code",
   "execution_count": 105,
   "metadata": {},
   "outputs": [
    {
     "name": "stdout",
     "output_type": "stream",
     "text": [
      "avg_rmse_per_user:  0.24724496875432986\n",
      "2955\n",
      "3326\n"
     ]
    }
   ],
   "source": [
    "all_users = 0\n",
    "number_of_users_with_less_mae = 0\n",
    "users_dic = {}\n",
    "users_count_dic = {}\n",
    "for user_id, route_id, diff in testset:\n",
    "    pred = algo.predict(user_id, route_id, r_ui=diff, verbose=False)\n",
    "    if user_id in users_dic.keys():\n",
    "        users_dic[user_id] += (np.round(pred[3]) - diff)**2\n",
    "        users_count_dic[user_id] += 1\n",
    "    else:\n",
    "        users_dic[user_id] = (np.round(pred[3]) - diff)**2\n",
    "        users_count_dic[user_id] = 1\n",
    "        all_users += 1\n",
    "avg_rmse = 0\n",
    "for user_id in users_dic.keys():\n",
    "    avg_rmse += (users_dic[user_id]/users_count_dic[user_id])**0.5\n",
    "    if users_dic[user_id]/users_count_dic[user_id] < 0.406:\n",
    "        number_of_users_with_less_mae += 1\n",
    "print('avg_rmse_per_user: ', avg_rmse/all_users)\n",
    "print(number_of_users_with_less_mae)\n",
    "print(all_users)"
   ]
  },
  {
   "cell_type": "code",
   "execution_count": 106,
   "metadata": {},
   "outputs": [
    {
     "name": "stdout",
     "output_type": "stream",
     "text": [
      "std:  0.30824383185006293\n"
     ]
    }
   ],
   "source": [
    "std = 0\n",
    "for user_id in users_dic.keys():\n",
    "    std += ((users_dic[user_id]/users_count_dic[user_id])**0.5 - avg_rmse/all_users)**2\n",
    "std = (std/all_users)**0.5\n",
    "print('std: ', std)"
   ]
  },
  {
   "cell_type": "code",
   "execution_count": 93,
   "metadata": {
    "scrolled": true
   },
   "outputs": [
    {
     "name": "stdout",
     "output_type": "stream",
     "text": [
      "0.9139882971506106\n"
     ]
    }
   ],
   "source": [
    "num_tp = 0\n",
    "num_all = 0\n",
    "for user_id, route_id, diff in testset:\n",
    "    pred = algo.predict(user_id, route_id, r_ui=diff, verbose=False)\n",
    "    if abs(np.round(pred[3]) - diff)==0:\n",
    "        num_tp += 1\n",
    "    num_all += 1\n",
    "print(num_tp/num_all)"
   ]
  },
  {
   "cell_type": "code",
   "execution_count": 12,
   "metadata": {},
   "outputs": [
    {
     "name": "stdout",
     "output_type": "stream",
     "text": [
      "sample_success  537\n",
      "sample_size  600\n",
      "Proportion ztest -0.4 0.345\n",
      "Fail to reject the null hypothesis - we have nothing else to say\n",
      "population proportion is equal to hypothesized proportion\n"
     ]
    }
   ],
   "source": [
    "from statsmodels.stats.proportion import proportions_ztest\n",
    "\n",
    "# Null hypothesis: population proportion is equal to hypothesized proportion\n",
    "# Alternative hypothesis: population proportion is not equal to hypothesized proportion (two -tailed)\n",
    "\n",
    "number_of_correctly_found = 537\n",
    "overall_number = 600\n",
    "null_hypothesis = 0.90\n",
    "significance = 0.05\n",
    "print(\"sample_success \", number_of_correctly_found)\n",
    "print(\"sample_size \", overall_number)\n",
    "stat, p_value = proportions_ztest(count=number_of_correctly_found, nobs=overall_number, value=null_hypothesis,\n",
    "                                  alternative='smaller')\n",
    "print(\"Proportion ztest\", round(stat, 3), round(p_value, 3))\n",
    "if p_value > significance:\n",
    "    print (\"Fail to reject the null hypothesis - we have nothing else to say\")\n",
    "    print(\"population proportion is equal to hypothesized proportion\")\n",
    "else:\n",
    "    print (\"Reject the null hypothesis - suggest the alternative hypothesis is true\")\n",
    "    print(\"population proportion is not equal to hypothesized proportion (two -tailed)\")"
   ]
  },
  {
   "cell_type": "code",
   "execution_count": 420,
   "metadata": {},
   "outputs": [
    {
     "name": "stdout",
     "output_type": "stream",
     "text": [
      "3995\n"
     ]
    }
   ],
   "source": [
    "print(len(testset))"
   ]
  },
  {
   "cell_type": "code",
   "execution_count": 265,
   "metadata": {},
   "outputs": [
    {
     "name": "stdout",
     "output_type": "stream",
     "text": [
      "Estimating biases using als...\n",
      "Computing the pearson_baseline similarity matrix...\n",
      "Done computing similarity matrix.\n",
      "RMSE: 0.6158\n",
      "MSE: 0.3792\n",
      "MAE:  0.2949\n"
     ]
    },
    {
     "data": {
      "text/plain": [
       "0.29487782788356454"
      ]
     },
     "execution_count": 265,
     "metadata": {},
     "output_type": "execute_result"
    }
   ],
   "source": [
    "bsl_options_als = {'method': 'als',\n",
    "               'n_epochs': 1000\n",
    "               }\n",
    "sim_options = {'name': 'pearson_baseline', 'user_based': False}\n",
    "algo = KNNBasic(bsl_options=bsl_options_als, sim_options=sim_options)\n",
    "predictions = algo.fit(trainset).test(testset)\n",
    "accuracy.rmse(predictions)\n",
    "accuracy.mse(predictions)\n",
    "accuracy.mae(predictions)"
   ]
  },
  {
   "cell_type": "code",
   "execution_count": null,
   "metadata": {},
   "outputs": [],
   "source": [
    "from surprise import SVDpp\n",
    "algo_ = SVDpp(n_factors=50, # The number of factors. Default is 100.\n",
    "               n_epochs=30, # The number of iteration of the SGD procedure. Default is 20.\n",
    "               init_mean =0, # The mean of the normal distribution for factor vectors initialization. Default is 0.\n",
    "               init_std_dev=0.1, # The standard deviation of the normal distribution for factor vectors initialization.\n",
    "                                   # Default is 0.1.\n",
    "               lr_all=0.005, # The learning rate for all parameters. Default is 0.005.\n",
    "               reg_all=0.1, # The regularization term for all parameters. Default is 0.02.\n",
    "               lr_bu=lr_bu_, # The learning rate for 𝑏𝑢.\n",
    "               lr_bi=lr_bi_, #\n",
    "               lr_pu=lr_pu_, #\n",
    "               lr_qi=lr_qi_, #\n",
    "               reg_bu=reg_bu_, #\n",
    "               reg_bi=reg_bi_, #\n",
    "               reg_pu=reg_pu_, #\n",
    "               reg_qi=reg_qi_ )#)\n",
    "algo_.fit(trainset)\n",
    "# Evaluation\n",
    "predictions = algo_.test(testset)\n",
    "\n",
    "print(f'MAE: {accuracy.mae(predictions, verbose=False):.3f}')\n",
    "print(f'MSE : {accuracy.mse(predictions, verbose=False):.3f}')\n",
    "print(f'RMSE: {accuracy.rmse(predictions, verbose=False):.3f}')"
   ]
  },
  {
   "cell_type": "code",
   "execution_count": 75,
   "metadata": {},
   "outputs": [
    {
     "ename": "KeyboardInterrupt",
     "evalue": "",
     "output_type": "error",
     "traceback": [
      "\u001b[0;31m---------------------------------------------------------------------------\u001b[0m",
      "\u001b[0;31mKeyboardInterrupt\u001b[0m                         Traceback (most recent call last)",
      "\u001b[0;32m<ipython-input-75-92199f44d8da>\u001b[0m in \u001b[0;36m<module>\u001b[0;34m\u001b[0m\n\u001b[1;32m      1\u001b[0m \u001b[0;32mfrom\u001b[0m \u001b[0msurprise\u001b[0m \u001b[0;32mimport\u001b[0m \u001b[0mCoClustering\u001b[0m\u001b[0;34m\u001b[0m\u001b[0;34m\u001b[0m\u001b[0m\n\u001b[1;32m      2\u001b[0m \u001b[0malgo_\u001b[0m \u001b[0;34m=\u001b[0m \u001b[0mCoClustering\u001b[0m\u001b[0;34m(\u001b[0m\u001b[0mn_cltr_u\u001b[0m\u001b[0;34m=\u001b[0m\u001b[0;36m1000\u001b[0m\u001b[0;34m,\u001b[0m \u001b[0mn_cltr_i\u001b[0m\u001b[0;34m=\u001b[0m\u001b[0;36m1000\u001b[0m\u001b[0;34m,\u001b[0m \u001b[0mn_epochs\u001b[0m\u001b[0;34m=\u001b[0m\u001b[0;36m30\u001b[0m\u001b[0;34m)\u001b[0m\u001b[0;34m\u001b[0m\u001b[0;34m\u001b[0m\u001b[0m\n\u001b[0;32m----> 3\u001b[0;31m \u001b[0malgo_\u001b[0m\u001b[0;34m.\u001b[0m\u001b[0mfit\u001b[0m\u001b[0;34m(\u001b[0m\u001b[0mtrainset\u001b[0m\u001b[0;34m)\u001b[0m\u001b[0;34m\u001b[0m\u001b[0;34m\u001b[0m\u001b[0m\n\u001b[0m\u001b[1;32m      4\u001b[0m \u001b[0;31m# Evaluation\u001b[0m\u001b[0;34m\u001b[0m\u001b[0;34m\u001b[0m\u001b[0;34m\u001b[0m\u001b[0m\n\u001b[1;32m      5\u001b[0m \u001b[0mpredictions\u001b[0m \u001b[0;34m=\u001b[0m \u001b[0malgo_\u001b[0m\u001b[0;34m.\u001b[0m\u001b[0mtest\u001b[0m\u001b[0;34m(\u001b[0m\u001b[0mtestset\u001b[0m\u001b[0;34m)\u001b[0m\u001b[0;34m\u001b[0m\u001b[0;34m\u001b[0m\u001b[0m\n",
      "\u001b[0;32m~/PycharmProjects/recommender_project/venv/lib/python3.7/site-packages/surprise/prediction_algorithms/co_clustering.pyx\u001b[0m in \u001b[0;36msurprise.prediction_algorithms.co_clustering.CoClustering.fit\u001b[0;34m()\u001b[0m\n",
      "\u001b[0;32m<__array_function__ internals>\u001b[0m in \u001b[0;36margmin\u001b[0;34m(*args, **kwargs)\u001b[0m\n",
      "\u001b[0;31mKeyboardInterrupt\u001b[0m: "
     ]
    }
   ],
   "source": [
    "from surprise import CoClustering\n",
    "algo_ = CoClustering(n_cltr_u=1000, n_cltr_i=1000, n_epochs=30)\n",
    "algo_.fit(trainset)\n",
    "# Evaluation\n",
    "predictions = algo_.test(testset)\n",
    "\n",
    "print(f'MAE: {accuracy.mae(predictions, verbose=False):.3f}')\n",
    "print(f'MSE : {accuracy.mse(predictions, verbose=False):.3f}')\n",
    "print(f'RMSE: {accuracy.rmse(predictions, verbose=False):.3f}')"
   ]
  },
  {
   "cell_type": "code",
   "execution_count": 42,
   "metadata": {},
   "outputs": [],
   "source": [
    "from scipy.stats import pearsonr\n",
    "\n",
    "user1 = [7,6,7,4,5,4]\n",
    "user2 = [6,7,4,3,4]\n",
    "user3 = [0,3,3,1,1,0]\n",
    "user4 = [1,2,2,3,3,4]\n",
    "user5 = [1,0,1,2,3,3]\n"
   ]
  },
  {
   "cell_type": "code",
   "execution_count": 43,
   "metadata": {},
   "outputs": [
    {
     "data": {
      "text/plain": [
       "5.5"
      ]
     },
     "execution_count": 43,
     "metadata": {},
     "output_type": "execute_result"
    }
   ],
   "source": [
    "sum(user1)/len(user1)"
   ]
  },
  {
   "cell_type": "code",
   "execution_count": 44,
   "metadata": {},
   "outputs": [
    {
     "data": {
      "text/plain": [
       "4.8"
      ]
     },
     "execution_count": 44,
     "metadata": {},
     "output_type": "execute_result"
    }
   ],
   "source": [
    "sum(user2)/len(user2)"
   ]
  },
  {
   "cell_type": "code",
   "execution_count": 33,
   "metadata": {},
   "outputs": [
    {
     "name": "stdout",
     "output_type": "stream",
     "text": [
      "-1.0\n"
     ]
    }
   ],
   "source": [
    "user1 = [6,7,4,5]\n",
    "user2 = [7,0,4,3]\n",
    "user3 = [3,3,1,1]\n",
    "user4 = [2,2,3,3]\n",
    "user5 = [0,1,2,3]\n",
    "r, pvalue = pearsonr(user3, user4)\n",
    "print(r)"
   ]
  },
  {
   "cell_type": "code",
   "execution_count": 34,
   "metadata": {},
   "outputs": [
    {
     "name": "stdout",
     "output_type": "stream",
     "text": [
      "0.04381711253248499\n",
      "0.272174657125949\n",
      "0.21064778262367367\n",
      "0.5219085562662426\n"
     ]
    }
   ],
   "source": [
    "from scipy.spatial import distance\n",
    "# cosin distance = 1 - angle\n",
    "print(distance.cosine(user1, user3))\n",
    "print(distance.cosine(user2, user3))\n",
    "print(distance.cosine(user4, user3))\n",
    "print(distance.cosine(user5, user3))"
   ]
  },
  {
   "cell_type": "code",
   "execution_count": 21,
   "metadata": {},
   "outputs": [
    {
     "data": {
      "text/plain": [
       "3.4615384615384617"
      ]
     },
     "execution_count": 21,
     "metadata": {},
     "output_type": "execute_result"
    }
   ],
   "source": [
    "(sum(user1) + sum(user2) + sum(user3) + sum(user4) + sum(user5))/26"
   ]
  },
  {
   "cell_type": "code",
   "execution_count": 22,
   "metadata": {},
   "outputs": [],
   "source": [
    "#average_mu = 3.46\n",
    "bu = sum(user3)/4"
   ]
  },
  {
   "cell_type": "code",
   "execution_count": 23,
   "metadata": {},
   "outputs": [
    {
     "name": "stdout",
     "output_type": "stream",
     "text": [
      "2.0\n"
     ]
    }
   ],
   "source": [
    "print(bu)"
   ]
  },
  {
   "cell_type": "code",
   "execution_count": 25,
   "metadata": {},
   "outputs": [
    {
     "name": "stdout",
     "output_type": "stream",
     "text": [
      "3.75\n"
     ]
    }
   ],
   "source": [
    "bi = (7+6+1+1)/4\n",
    "print(bi)"
   ]
  },
  {
   "cell_type": "code",
   "execution_count": 54,
   "metadata": {},
   "outputs": [],
   "source": [
    "train_file_name = 'data/train_ds_ds_v7_allhist.csv'#'data/train_ds_ds_v7_single_time_all_hist.csv'\n",
    "test_file_name = 'data/test_ds_ds_v7_allhist.csv'#'data/test_ds_ds_v7_single_time_all_hist.csv'\n",
    "df_train_svd = pd.read_csv(train_file_name)\n",
    "df_test_svd = pd.read_csv(test_file_name)\n",
    "\n",
    "df_train_svd['diff'] = df_train_svd['user_grade_id'] - df_train_svd['grade_id']\n",
    "df_test_svd['diff'] = df_test_svd['user_grade_id'] - df_test_svd['grade_id']\n",
    "\n",
    "tr = df_train_svd[['user_id','route_id','diff']]\n",
    "te = df_test_svd[['user_id','route_id','diff']]"
   ]
  },
  {
   "cell_type": "code",
   "execution_count": 55,
   "metadata": {},
   "outputs": [
    {
     "data": {
      "text/html": [
       "<div>\n",
       "<style scoped>\n",
       "    .dataframe tbody tr th:only-of-type {\n",
       "        vertical-align: middle;\n",
       "    }\n",
       "\n",
       "    .dataframe tbody tr th {\n",
       "        vertical-align: top;\n",
       "    }\n",
       "\n",
       "    .dataframe thead th {\n",
       "        text-align: right;\n",
       "    }\n",
       "</style>\n",
       "<table border=\"1\" class=\"dataframe\">\n",
       "  <thead>\n",
       "    <tr style=\"text-align: right;\">\n",
       "      <th></th>\n",
       "      <th>Unnamed: 0</th>\n",
       "      <th>train</th>\n",
       "      <th>date</th>\n",
       "      <th>route_id</th>\n",
       "      <th>user_id</th>\n",
       "      <th>grade_id</th>\n",
       "      <th>user_grade_id</th>\n",
       "      <th>user_grade_eval_bias</th>\n",
       "      <th>route_eval_bias</th>\n",
       "      <th>avg_rs_grade_diff</th>\n",
       "      <th>...</th>\n",
       "      <th>user_perc_proposed</th>\n",
       "      <th>route_eligible</th>\n",
       "      <th>user_eligible</th>\n",
       "      <th>avg_user_grade_id_per_grade</th>\n",
       "      <th>avg_rating_per_route</th>\n",
       "      <th>avg_tries_per_route</th>\n",
       "      <th>avg_user_grade_id_per_route</th>\n",
       "      <th>avg_climb_type_per_route</th>\n",
       "      <th>avg_user_grade_id_rp_per_grade</th>\n",
       "      <th>diff</th>\n",
       "    </tr>\n",
       "  </thead>\n",
       "  <tbody>\n",
       "    <tr>\n",
       "      <th>0</th>\n",
       "      <td>0</td>\n",
       "      <td>1</td>\n",
       "      <td>2016-06-01 00:00:00</td>\n",
       "      <td>1517</td>\n",
       "      <td>31819</td>\n",
       "      <td>14</td>\n",
       "      <td>17</td>\n",
       "      <td>0.25</td>\n",
       "      <td>0.50</td>\n",
       "      <td>0.15</td>\n",
       "      <td>...</td>\n",
       "      <td>0.27</td>\n",
       "      <td>0</td>\n",
       "      <td>0</td>\n",
       "      <td>14</td>\n",
       "      <td>2.67</td>\n",
       "      <td>1.33</td>\n",
       "      <td>15</td>\n",
       "      <td>2.50</td>\n",
       "      <td>14</td>\n",
       "      <td>3</td>\n",
       "    </tr>\n",
       "    <tr>\n",
       "      <th>1</th>\n",
       "      <td>1</td>\n",
       "      <td>1</td>\n",
       "      <td>2016-06-01 00:00:00</td>\n",
       "      <td>1519</td>\n",
       "      <td>31819</td>\n",
       "      <td>15</td>\n",
       "      <td>15</td>\n",
       "      <td>0.16</td>\n",
       "      <td>0.00</td>\n",
       "      <td>0.00</td>\n",
       "      <td>...</td>\n",
       "      <td>0.27</td>\n",
       "      <td>0</td>\n",
       "      <td>0</td>\n",
       "      <td>15</td>\n",
       "      <td>4.00</td>\n",
       "      <td>2.00</td>\n",
       "      <td>15</td>\n",
       "      <td>2.00</td>\n",
       "      <td>15</td>\n",
       "      <td>0</td>\n",
       "    </tr>\n",
       "    <tr>\n",
       "      <th>2</th>\n",
       "      <td>2</td>\n",
       "      <td>1</td>\n",
       "      <td>2016-09-21 00:00:00</td>\n",
       "      <td>1753</td>\n",
       "      <td>30380</td>\n",
       "      <td>14</td>\n",
       "      <td>14</td>\n",
       "      <td>0.00</td>\n",
       "      <td>-0.13</td>\n",
       "      <td>0.03</td>\n",
       "      <td>...</td>\n",
       "      <td>0.03</td>\n",
       "      <td>0</td>\n",
       "      <td>0</td>\n",
       "      <td>14</td>\n",
       "      <td>2.25</td>\n",
       "      <td>1.50</td>\n",
       "      <td>14</td>\n",
       "      <td>2.50</td>\n",
       "      <td>14</td>\n",
       "      <td>0</td>\n",
       "    </tr>\n",
       "    <tr>\n",
       "      <th>3</th>\n",
       "      <td>3</td>\n",
       "      <td>1</td>\n",
       "      <td>2016-09-25 00:00:00</td>\n",
       "      <td>1201</td>\n",
       "      <td>9591</td>\n",
       "      <td>18</td>\n",
       "      <td>18</td>\n",
       "      <td>0.00</td>\n",
       "      <td>0.00</td>\n",
       "      <td>-0.03</td>\n",
       "      <td>...</td>\n",
       "      <td>0.10</td>\n",
       "      <td>0</td>\n",
       "      <td>0</td>\n",
       "      <td>18</td>\n",
       "      <td>1.50</td>\n",
       "      <td>1.25</td>\n",
       "      <td>18</td>\n",
       "      <td>2.75</td>\n",
       "      <td>18</td>\n",
       "      <td>0</td>\n",
       "    </tr>\n",
       "    <tr>\n",
       "      <th>4</th>\n",
       "      <td>4</td>\n",
       "      <td>1</td>\n",
       "      <td>2016-09-29 00:00:00</td>\n",
       "      <td>981</td>\n",
       "      <td>4716</td>\n",
       "      <td>14</td>\n",
       "      <td>14</td>\n",
       "      <td>-0.12</td>\n",
       "      <td>0.00</td>\n",
       "      <td>0.02</td>\n",
       "      <td>...</td>\n",
       "      <td>0.07</td>\n",
       "      <td>0</td>\n",
       "      <td>0</td>\n",
       "      <td>14</td>\n",
       "      <td>1.50</td>\n",
       "      <td>1.50</td>\n",
       "      <td>14</td>\n",
       "      <td>3.00</td>\n",
       "      <td>14</td>\n",
       "      <td>0</td>\n",
       "    </tr>\n",
       "  </tbody>\n",
       "</table>\n",
       "<p>5 rows × 21 columns</p>\n",
       "</div>"
      ],
      "text/plain": [
       "   Unnamed: 0  train                 date  route_id  user_id  grade_id  \\\n",
       "0           0      1  2016-06-01 00:00:00      1517    31819        14   \n",
       "1           1      1  2016-06-01 00:00:00      1519    31819        15   \n",
       "2           2      1  2016-09-21 00:00:00      1753    30380        14   \n",
       "3           3      1  2016-09-25 00:00:00      1201     9591        18   \n",
       "4           4      1  2016-09-29 00:00:00       981     4716        14   \n",
       "\n",
       "   user_grade_id  user_grade_eval_bias  route_eval_bias  avg_rs_grade_diff  \\\n",
       "0             17                  0.25             0.50               0.15   \n",
       "1             15                  0.16             0.00               0.00   \n",
       "2             14                  0.00            -0.13               0.03   \n",
       "3             18                  0.00             0.00              -0.03   \n",
       "4             14                 -0.12             0.00               0.02   \n",
       "\n",
       "   ...  user_perc_proposed  route_eligible  user_eligible  \\\n",
       "0  ...                0.27               0              0   \n",
       "1  ...                0.27               0              0   \n",
       "2  ...                0.03               0              0   \n",
       "3  ...                0.10               0              0   \n",
       "4  ...                0.07               0              0   \n",
       "\n",
       "   avg_user_grade_id_per_grade  avg_rating_per_route  avg_tries_per_route  \\\n",
       "0                           14                  2.67                 1.33   \n",
       "1                           15                  4.00                 2.00   \n",
       "2                           14                  2.25                 1.50   \n",
       "3                           18                  1.50                 1.25   \n",
       "4                           14                  1.50                 1.50   \n",
       "\n",
       "   avg_user_grade_id_per_route  avg_climb_type_per_route  \\\n",
       "0                           15                      2.50   \n",
       "1                           15                      2.00   \n",
       "2                           14                      2.50   \n",
       "3                           18                      2.75   \n",
       "4                           14                      3.00   \n",
       "\n",
       "   avg_user_grade_id_rp_per_grade  diff  \n",
       "0                              14     3  \n",
       "1                              15     0  \n",
       "2                              14     0  \n",
       "3                              18     0  \n",
       "4                              14     0  \n",
       "\n",
       "[5 rows x 21 columns]"
      ]
     },
     "execution_count": 55,
     "metadata": {},
     "output_type": "execute_result"
    }
   ],
   "source": [
    "df_train_svd.head()"
   ]
  },
  {
   "cell_type": "code",
   "execution_count": 51,
   "metadata": {},
   "outputs": [],
   "source": [
    "tr.to_csv(r'datasets/tr.txt', header=None, index=None, sep='\\t', mode='a')\n",
    "te.to_csv(r'datasets/te.txt', header=None, index=None, sep='\\t', mode='a')"
   ]
  },
  {
   "cell_type": "code",
   "execution_count": 52,
   "metadata": {},
   "outputs": [
    {
     "name": "stdout",
     "output_type": "stream",
     "text": [
      "[Case Recommender: Rating Prediction > SVDPlusPlus]\n",
      "\n",
      "train data:: 3340 users and 34210 items (376038 interactions) | sparsity:: 99.67%\n",
      "test data:: 3328 users and 21630 items (95640 interactions) | sparsity:: 99.87%\n",
      "\n",
      "training_time:: 1516.305958 sec\n",
      "prediction_time:: 1.952241 sec\n",
      "\n",
      "\n",
      "Eval:: MAE: 0.198898 RMSE: 0.358651 \n"
     ]
    }
   ],
   "source": [
    "# Cross Validation\n",
    "# recommender = MatrixFactorization()\n",
    "\n",
    "# CrossValidation(input_file=db, recommender=recommender, dir_folds=folds_path, header=1, k_folds=5).compute()\n",
    "\n",
    "# # Simple\n",
    "# MatrixFactorization(tr, te).compute()\n",
    "# SVDPlusPlus(tr, te).compute()\n",
    "tr = 'datasets/tr.txt'\n",
    "te = 'datasets/te.txt'\n",
    "SVDPlusPlus(tr, te, factors = 20).compute()"
   ]
  },
  {
   "cell_type": "code",
   "execution_count": 53,
   "metadata": {},
   "outputs": [
    {
     "name": "stdout",
     "output_type": "stream",
     "text": [
      "[Case Recommender: Rating Prediction > SVDPlusPlus]\n",
      "\n",
      "train data:: 3340 users and 34210 items (376038 interactions) | sparsity:: 99.67%\n",
      "test data:: 3328 users and 21630 items (95640 interactions) | sparsity:: 99.87%\n",
      "\n"
     ]
    },
    {
     "ename": "KeyboardInterrupt",
     "evalue": "",
     "output_type": "error",
     "traceback": [
      "\u001b[0;31m---------------------------------------------------------------------------\u001b[0m",
      "\u001b[0;31mKeyboardInterrupt\u001b[0m                         Traceback (most recent call last)",
      "\u001b[0;32m<ipython-input-53-8e34de18187f>\u001b[0m in \u001b[0;36m<module>\u001b[0;34m\u001b[0m\n\u001b[1;32m      8\u001b[0m             \u001b[0mdelta_bias\u001b[0m\u001b[0;34m=\u001b[0m\u001b[0;36m0.002\u001b[0m\u001b[0;34m,\u001b[0m\u001b[0;34m\u001b[0m\u001b[0;34m\u001b[0m\u001b[0m\n\u001b[1;32m      9\u001b[0m             \u001b[0mstop_criteria\u001b[0m\u001b[0;34m=\u001b[0m\u001b[0;36m0.009\u001b[0m\u001b[0;34m,\u001b[0m\u001b[0;34m\u001b[0m\u001b[0;34m\u001b[0m\u001b[0m\n\u001b[0;32m---> 10\u001b[0;31m             update_delta=False).compute()\n\u001b[0m",
      "\u001b[0;32m~/PycharmProjects/recommender_project/caserec/recommenders/rating_prediction/matrixfactorization.py\u001b[0m in \u001b[0;36mcompute\u001b[0;34m(self, verbose, metrics, verbose_evaluation, as_table, table_sep)\u001b[0m\n\u001b[1;32m    251\u001b[0m         \u001b[0;32mif\u001b[0m \u001b[0mverbose\u001b[0m\u001b[0;34m:\u001b[0m\u001b[0;34m\u001b[0m\u001b[0;34m\u001b[0m\u001b[0m\n\u001b[1;32m    252\u001b[0m             \u001b[0mself\u001b[0m\u001b[0;34m.\u001b[0m\u001b[0minit_model\u001b[0m\u001b[0;34m(\u001b[0m\u001b[0;34m)\u001b[0m\u001b[0;34m\u001b[0m\u001b[0;34m\u001b[0m\u001b[0m\n\u001b[0;32m--> 253\u001b[0;31m             \u001b[0mprint\u001b[0m\u001b[0;34m(\u001b[0m\u001b[0;34m\"training_time:: %4f sec\"\u001b[0m \u001b[0;34m%\u001b[0m \u001b[0mtimed\u001b[0m\u001b[0;34m(\u001b[0m\u001b[0mself\u001b[0m\u001b[0;34m.\u001b[0m\u001b[0mfit\u001b[0m\u001b[0;34m)\u001b[0m\u001b[0;34m)\u001b[0m\u001b[0;34m\u001b[0m\u001b[0;34m\u001b[0m\u001b[0m\n\u001b[0m\u001b[1;32m    254\u001b[0m             \u001b[0;32mif\u001b[0m \u001b[0mself\u001b[0m\u001b[0;34m.\u001b[0m\u001b[0mextra_info_header\u001b[0m \u001b[0;32mis\u001b[0m \u001b[0;32mnot\u001b[0m \u001b[0;32mNone\u001b[0m\u001b[0;34m:\u001b[0m\u001b[0;34m\u001b[0m\u001b[0;34m\u001b[0m\u001b[0m\n\u001b[1;32m    255\u001b[0m                 \u001b[0mprint\u001b[0m\u001b[0;34m(\u001b[0m\u001b[0mself\u001b[0m\u001b[0;34m.\u001b[0m\u001b[0mextra_info_header\u001b[0m\u001b[0;34m)\u001b[0m\u001b[0;34m\u001b[0m\u001b[0;34m\u001b[0m\u001b[0m\n",
      "\u001b[0;32m~/PycharmProjects/recommender_project/caserec/utils/extra_functions.py\u001b[0m in \u001b[0;36mtimed\u001b[0;34m(f)\u001b[0m\n\u001b[1;32m     61\u001b[0m     \"\"\"\n\u001b[1;32m     62\u001b[0m     \u001b[0mstart\u001b[0m \u001b[0;34m=\u001b[0m \u001b[0mtime\u001b[0m\u001b[0;34m.\u001b[0m\u001b[0mtime\u001b[0m\u001b[0;34m(\u001b[0m\u001b[0;34m)\u001b[0m\u001b[0;34m\u001b[0m\u001b[0;34m\u001b[0m\u001b[0m\n\u001b[0;32m---> 63\u001b[0;31m     \u001b[0mf\u001b[0m\u001b[0;34m(\u001b[0m\u001b[0;34m)\u001b[0m\u001b[0;34m\u001b[0m\u001b[0;34m\u001b[0m\u001b[0m\n\u001b[0m\u001b[1;32m     64\u001b[0m     \u001b[0melapsed\u001b[0m \u001b[0;34m=\u001b[0m \u001b[0mtime\u001b[0m\u001b[0;34m.\u001b[0m\u001b[0mtime\u001b[0m\u001b[0;34m(\u001b[0m\u001b[0;34m)\u001b[0m \u001b[0;34m-\u001b[0m \u001b[0mstart\u001b[0m\u001b[0;34m\u001b[0m\u001b[0;34m\u001b[0m\u001b[0m\n\u001b[1;32m     65\u001b[0m     \u001b[0;32mreturn\u001b[0m \u001b[0melapsed\u001b[0m\u001b[0;34m\u001b[0m\u001b[0;34m\u001b[0m\u001b[0m\n",
      "\u001b[0;32m~/PycharmProjects/recommender_project/caserec/recommenders/rating_prediction/svdplusplus.py\u001b[0m in \u001b[0;36mfit\u001b[0;34m(self)\u001b[0m\n\u001b[1;32m    153\u001b[0m                 \u001b[0;32mfor\u001b[0m \u001b[0mj\u001b[0m \u001b[0;32min\u001b[0m \u001b[0mself\u001b[0m\u001b[0;34m.\u001b[0m\u001b[0mitems_id_seen_by_user\u001b[0m\u001b[0;34m[\u001b[0m\u001b[0muser\u001b[0m\u001b[0;34m]\u001b[0m\u001b[0;34m:\u001b[0m\u001b[0;34m\u001b[0m\u001b[0;34m\u001b[0m\u001b[0m\n\u001b[1;32m    154\u001b[0m                     \u001b[0mdelta_y\u001b[0m \u001b[0;34m=\u001b[0m \u001b[0mnp\u001b[0m\u001b[0;34m.\u001b[0m\u001b[0msubtract\u001b[0m\u001b[0;34m(\u001b[0m\u001b[0mcommon_update\u001b[0m\u001b[0;34m,\u001b[0m \u001b[0mself\u001b[0m\u001b[0;34m.\u001b[0m\u001b[0mdelta\u001b[0m \u001b[0;34m*\u001b[0m \u001b[0mself\u001b[0m\u001b[0;34m.\u001b[0m\u001b[0my\u001b[0m\u001b[0;34m[\u001b[0m\u001b[0mj\u001b[0m\u001b[0;34m]\u001b[0m\u001b[0;34m)\u001b[0m\u001b[0;34m\u001b[0m\u001b[0;34m\u001b[0m\u001b[0m\n\u001b[0;32m--> 155\u001b[0;31m                     \u001b[0mself\u001b[0m\u001b[0;34m.\u001b[0m\u001b[0my\u001b[0m\u001b[0;34m[\u001b[0m\u001b[0mj\u001b[0m\u001b[0;34m]\u001b[0m \u001b[0;34m+=\u001b[0m \u001b[0mself\u001b[0m\u001b[0;34m.\u001b[0m\u001b[0mlearn_rate\u001b[0m \u001b[0;34m*\u001b[0m \u001b[0mdelta_y\u001b[0m\u001b[0;34m\u001b[0m\u001b[0;34m\u001b[0m\u001b[0m\n\u001b[0m\u001b[1;32m    156\u001b[0m \u001b[0;34m\u001b[0m\u001b[0m\n\u001b[1;32m    157\u001b[0m             \u001b[0mrmse_new\u001b[0m \u001b[0;34m=\u001b[0m \u001b[0mnp\u001b[0m\u001b[0;34m.\u001b[0m\u001b[0msqrt\u001b[0m\u001b[0;34m(\u001b[0m\u001b[0merror_final\u001b[0m \u001b[0;34m/\u001b[0m \u001b[0mself\u001b[0m\u001b[0;34m.\u001b[0m\u001b[0mtrain_set\u001b[0m\u001b[0;34m[\u001b[0m\u001b[0;34m\"number_interactions\"\u001b[0m\u001b[0;34m]\u001b[0m\u001b[0;34m)\u001b[0m\u001b[0;34m\u001b[0m\u001b[0;34m\u001b[0m\u001b[0m\n",
      "\u001b[0;31mKeyboardInterrupt\u001b[0m: "
     ]
    }
   ],
   "source": [
    "SVDPlusPlus(tr, te, factors = 20,\n",
    "            learn_rate=0.005,\n",
    "            epochs=100,\n",
    "            delta=0.015,\n",
    "            init_mean=0,\n",
    "            init_stdev=0.1,\n",
    "            bias_learn_rate=0.005,\n",
    "            delta_bias=0.002,\n",
    "            stop_criteria=0.009,\n",
    "            update_delta=False).compute()"
   ]
  },
  {
   "cell_type": "code",
   "execution_count": null,
   "metadata": {},
   "outputs": [],
   "source": []
  }
 ],
 "metadata": {
  "kernelspec": {
   "display_name": "Python 3",
   "language": "python",
   "name": "python3"
  },
  "language_info": {
   "codemirror_mode": {
    "name": "ipython",
    "version": 3
   },
   "file_extension": ".py",
   "mimetype": "text/x-python",
   "name": "python",
   "nbconvert_exporter": "python",
   "pygments_lexer": "ipython3",
   "version": "3.7.3"
  }
 },
 "nbformat": 4,
 "nbformat_minor": 4
}
